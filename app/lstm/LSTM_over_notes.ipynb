{
 "cells": [
  {
   "cell_type": "code",
   "execution_count": 1,
   "metadata": {},
   "outputs": [],
   "source": [
    "import os\n",
    "import json\n",
    "\n",
    "import numpy as np\n",
    "import tensorflow as tf\n",
    "from tensorflow import keras\n",
    "from tensorflow.keras import layers\n",
    "\n",
    "import pandas\n",
    "import swifter\n",
    "\n",
    "tf.debugging.set_log_device_placement(False)\n",
    "\n",
    "from app.features.MidiData import MidiData\n",
    "\n",
    "DATASET_DIR = \"../../data/maestro-v2.0.0\""
   ]
  },
  {
   "cell_type": "code",
   "execution_count": 2,
   "metadata": {},
   "outputs": [],
   "source": [
    "dtype = {\n",
    "    \"canonical_composer\": \"category\",\n",
    "    \"canonical_title\": \"object\",\n",
    "    \"split\": \"category\",\n",
    "    \"year\": \"int64\",\n",
    "    \"midi_filename\": \"object\",\n",
    "    \"audio_filename\": \"object\",\n",
    "    \"duration\": \"float64\",\n",
    "}\n",
    "dataset = pandas.read_json(os.path.join(DATASET_DIR, \"maestro-v2.0.0.json\"))\n",
    "dataset = dataset.astype(dtype)"
   ]
  },
  {
   "cell_type": "code",
   "execution_count": 3,
   "metadata": {},
   "outputs": [
    {
     "data": {
      "application/vnd.jupyter.widget-view+json": {
       "model_id": "e5cefff64dc4445b9f3a52014b7af867",
       "version_major": 2,
       "version_minor": 0
      },
      "text/plain": [
       "HBox(children=(FloatProgress(value=0.0, description='Dask Apply', max=16.0, style=ProgressStyle(description_wi…"
      ]
     },
     "metadata": {},
     "output_type": "display_data"
    },
    {
     "name": "stdout",
     "output_type": "stream",
     "text": [
      "\n"
     ]
    }
   ],
   "source": [
    "def get_midi_data(filename):\n",
    "    return MidiData(os.path.join(DATASET_DIR, filename))\n",
    "\n",
    "\n",
    "dataset[\"midi_data\"] = (\n",
    "    dataset.midi_filename.swifter.progress_bar()\n",
    "    .allow_dask_on_strings()\n",
    "    .apply(get_midi_data)\n",
    ")"
   ]
  },
  {
   "cell_type": "code",
   "execution_count": 3,
   "metadata": {},
   "outputs": [],
   "source": [
    "def pad_array(a):\n",
    "    return np.pad(a, (0, max_notes_count - a.shape[0]), mode=\"constant\")\n",
    "\n",
    "\n",
    "def code_to_label(code):\n",
    "    return dataset.canonical_composer.cat.categories[code][0]\n",
    "\n",
    "\n",
    "def get_notes(midi_data):\n",
    "    return np.asarray([n[\"note\"] for n in midi_data.notes.notes])"
   ]
  },
  {
   "cell_type": "code",
   "execution_count": 4,
   "metadata": {},
   "outputs": [
    {
     "data": {
      "application/vnd.jupyter.widget-view+json": {
       "model_id": "2ab2739f752b4ba08b5e4dd239a2eaa0",
       "version_major": 2,
       "version_minor": 0
      },
      "text/plain": [
       "HBox(children=(FloatProgress(value=0.0, description='Pandas Apply', max=1282.0, style=ProgressStyle(descriptio…"
      ]
     },
     "metadata": {},
     "output_type": "display_data"
    },
    {
     "name": "stdout",
     "output_type": "stream",
     "text": [
      "\n"
     ]
    },
    {
     "data": {
      "application/vnd.jupyter.widget-view+json": {
       "model_id": "ce45939047224234ad8cd4a8d35d5593",
       "version_major": 2,
       "version_minor": 0
      },
      "text/plain": [
       "HBox(children=(FloatProgress(value=0.0, description='Pandas Apply', max=1282.0, style=ProgressStyle(descriptio…"
      ]
     },
     "metadata": {},
     "output_type": "display_data"
    },
    {
     "name": "stdout",
     "output_type": "stream",
     "text": [
      "\n"
     ]
    }
   ],
   "source": [
    "dataset[\"raw_notes\"] = dataset.midi_data.swifter.apply(get_notes)\n",
    "dataset[\"raw_notes_count\"] = dataset.raw_notes.swifter.apply(lambda a: len(a))\n",
    "# max_notes_count = dataset.raw_notes_count.max()\n",
    "# dataset[\"padded_notes\"] = dataset.raw_notes.swifter.apply(pad_array)"
   ]
  },
  {
   "cell_type": "code",
   "execution_count": 4,
   "metadata": {
    "scrolled": false
   },
   "outputs": [],
   "source": [
    "import pickle\n",
    "\n",
    "with open('./dataset.pickle', 'rb') as f:\n",
    "    dataset = pickle.load(f)"
   ]
  },
  {
   "cell_type": "code",
   "execution_count": 5,
   "metadata": {},
   "outputs": [
    {
     "data": {
      "text/html": [
       "<div>\n",
       "<style scoped>\n",
       "    .dataframe tbody tr th:only-of-type {\n",
       "        vertical-align: middle;\n",
       "    }\n",
       "\n",
       "    .dataframe tbody tr th {\n",
       "        vertical-align: top;\n",
       "    }\n",
       "\n",
       "    .dataframe thead th {\n",
       "        text-align: right;\n",
       "    }\n",
       "</style>\n",
       "<table border=\"1\" class=\"dataframe\">\n",
       "  <thead>\n",
       "    <tr style=\"text-align: right;\">\n",
       "      <th></th>\n",
       "      <th>raw_notes_count</th>\n",
       "    </tr>\n",
       "  </thead>\n",
       "  <tbody>\n",
       "    <tr>\n",
       "      <th>count</th>\n",
       "      <td>1282.000000</td>\n",
       "    </tr>\n",
       "    <tr>\n",
       "      <th>mean</th>\n",
       "      <td>11117.500780</td>\n",
       "    </tr>\n",
       "    <tr>\n",
       "      <th>std</th>\n",
       "      <td>8545.336245</td>\n",
       "    </tr>\n",
       "    <tr>\n",
       "      <th>min</th>\n",
       "      <td>258.000000</td>\n",
       "    </tr>\n",
       "    <tr>\n",
       "      <th>25%</th>\n",
       "      <td>4702.500000</td>\n",
       "    </tr>\n",
       "    <tr>\n",
       "      <th>50%</th>\n",
       "      <td>8837.000000</td>\n",
       "    </tr>\n",
       "    <tr>\n",
       "      <th>75%</th>\n",
       "      <td>14584.500000</td>\n",
       "    </tr>\n",
       "    <tr>\n",
       "      <th>max</th>\n",
       "      <td>50152.000000</td>\n",
       "    </tr>\n",
       "  </tbody>\n",
       "</table>\n",
       "</div>"
      ],
      "text/plain": [
       "       raw_notes_count\n",
       "count      1282.000000\n",
       "mean      11117.500780\n",
       "std        8545.336245\n",
       "min         258.000000\n",
       "25%        4702.500000\n",
       "50%        8837.000000\n",
       "75%       14584.500000\n",
       "max       50152.000000"
      ]
     },
     "metadata": {},
     "output_type": "display_data"
    },
    {
     "data": {
      "text/html": [
       "<div>\n",
       "<style scoped>\n",
       "    .dataframe tbody tr th:only-of-type {\n",
       "        vertical-align: middle;\n",
       "    }\n",
       "\n",
       "    .dataframe tbody tr th {\n",
       "        vertical-align: top;\n",
       "    }\n",
       "\n",
       "    .dataframe thead th {\n",
       "        text-align: right;\n",
       "    }\n",
       "</style>\n",
       "<table border=\"1\" class=\"dataframe\">\n",
       "  <thead>\n",
       "    <tr style=\"text-align: right;\">\n",
       "      <th></th>\n",
       "      <th>raw_notes_count</th>\n",
       "    </tr>\n",
       "  </thead>\n",
       "  <tbody>\n",
       "    <tr>\n",
       "      <th>0</th>\n",
       "      <td>258</td>\n",
       "    </tr>\n",
       "    <tr>\n",
       "      <th>1</th>\n",
       "      <td>732</td>\n",
       "    </tr>\n",
       "    <tr>\n",
       "      <th>2</th>\n",
       "      <td>732</td>\n",
       "    </tr>\n",
       "    <tr>\n",
       "      <th>3</th>\n",
       "      <td>810</td>\n",
       "    </tr>\n",
       "    <tr>\n",
       "      <th>4</th>\n",
       "      <td>1010</td>\n",
       "    </tr>\n",
       "    <tr>\n",
       "      <th>...</th>\n",
       "      <td>...</td>\n",
       "    </tr>\n",
       "    <tr>\n",
       "      <th>1277</th>\n",
       "      <td>42870</td>\n",
       "    </tr>\n",
       "    <tr>\n",
       "      <th>1278</th>\n",
       "      <td>43042</td>\n",
       "    </tr>\n",
       "    <tr>\n",
       "      <th>1279</th>\n",
       "      <td>46938</td>\n",
       "    </tr>\n",
       "    <tr>\n",
       "      <th>1280</th>\n",
       "      <td>47670</td>\n",
       "    </tr>\n",
       "    <tr>\n",
       "      <th>1281</th>\n",
       "      <td>50152</td>\n",
       "    </tr>\n",
       "  </tbody>\n",
       "</table>\n",
       "<p>1282 rows × 1 columns</p>\n",
       "</div>"
      ],
      "text/plain": [
       "      raw_notes_count\n",
       "0                 258\n",
       "1                 732\n",
       "2                 732\n",
       "3                 810\n",
       "4                1010\n",
       "...               ...\n",
       "1277            42870\n",
       "1278            43042\n",
       "1279            46938\n",
       "1280            47670\n",
       "1281            50152\n",
       "\n",
       "[1282 rows x 1 columns]"
      ]
     },
     "metadata": {},
     "output_type": "display_data"
    },
    {
     "data": {
      "image/png": "[encoded data removed]",
      "text/plain": [
       "<Figure size 432x288 with 1 Axes>"
      ]
     },
     "metadata": {
      "needs_background": "light"
     },
     "output_type": "display_data"
    }
   ],
   "source": [
    "# Compute stats for notes counts\n",
    "notes_count_mean = dataset.raw_notes_count.mean()\n",
    "inf_bound = notes_count_mean - 1 * dataset.raw_notes_count.std()\n",
    "sup_bound = notes_count_mean + 1 * dataset.raw_notes_count.std()\n",
    "\n",
    "# Graph notes counts wrt indexes\n",
    "stats = pandas.DataFrame(\n",
    "    {\"raw_notes_count\": dataset.raw_notes_count.sort_values(ignore_index=True),}\n",
    ")\n",
    "plot = stats.plot(style={\"inf_bound\": \"--\", \"sup_bound\": \"--\"})\n",
    "plot.set(xlabel='Sample index', ylabel='Notes count')\n",
    "\n",
    "mean_index = stats.index[stats.raw_notes_count >= notes_count_mean][0]\n",
    "inf_bound_index = stats.index[stats.raw_notes_count >= inf_bound][0]\n",
    "sup_bound_index = stats.index[stats.raw_notes_count >= sup_bound][0]\n",
    "mean_line = plot.axvline(x=mean_index, c=\"orange\", label=\"mean\")\n",
    "\n",
    "# Draw separator lines for selected subset\n",
    "inf_bound_line = plot.axvline(x=inf_bound_index, c=\"green\", ls=\"--\", label=\"inf_bound\")\n",
    "sup_bound_line = plot.axvline(x=sup_bound_index, c=\"red\", ls=\"--\", label=\"sup_bound\")\n",
    "plot.legend(handles=[mean_line, inf_bound_line, sup_bound_line])\n",
    "\n",
    "# Extract stats for the notes counts\n",
    "display(dataset[[\"raw_notes_count\"]].describe())\n",
    "display(stats)"
   ]
  },
  {
   "cell_type": "code",
   "execution_count": 6,
   "metadata": {},
   "outputs": [
    {
     "data": {
      "text/html": [
       "<div>\n",
       "<style scoped>\n",
       "    .dataframe tbody tr th:only-of-type {\n",
       "        vertical-align: middle;\n",
       "    }\n",
       "\n",
       "    .dataframe tbody tr th {\n",
       "        vertical-align: top;\n",
       "    }\n",
       "\n",
       "    .dataframe thead th {\n",
       "        text-align: right;\n",
       "    }\n",
       "</style>\n",
       "<table border=\"1\" class=\"dataframe\">\n",
       "  <thead>\n",
       "    <tr style=\"text-align: right;\">\n",
       "      <th></th>\n",
       "      <th>raw_notes_count</th>\n",
       "    </tr>\n",
       "  </thead>\n",
       "  <tbody>\n",
       "    <tr>\n",
       "      <th>count</th>\n",
       "      <td>1061.000000</td>\n",
       "    </tr>\n",
       "    <tr>\n",
       "      <th>mean</th>\n",
       "      <td>8804.865221</td>\n",
       "    </tr>\n",
       "    <tr>\n",
       "      <th>std</th>\n",
       "      <td>4492.849176</td>\n",
       "    </tr>\n",
       "    <tr>\n",
       "      <th>min</th>\n",
       "      <td>2586.000000</td>\n",
       "    </tr>\n",
       "    <tr>\n",
       "      <th>25%</th>\n",
       "      <td>4708.000000</td>\n",
       "    </tr>\n",
       "    <tr>\n",
       "      <th>50%</th>\n",
       "      <td>8022.000000</td>\n",
       "    </tr>\n",
       "    <tr>\n",
       "      <th>75%</th>\n",
       "      <td>12326.000000</td>\n",
       "    </tr>\n",
       "    <tr>\n",
       "      <th>max</th>\n",
       "      <td>19572.000000</td>\n",
       "    </tr>\n",
       "  </tbody>\n",
       "</table>\n",
       "</div>"
      ],
      "text/plain": [
       "       raw_notes_count\n",
       "count      1061.000000\n",
       "mean       8804.865221\n",
       "std        4492.849176\n",
       "min        2586.000000\n",
       "25%        4708.000000\n",
       "50%        8022.000000\n",
       "75%       12326.000000\n",
       "max       19572.000000"
      ]
     },
     "metadata": {},
     "output_type": "display_data"
    },
    {
     "data": {
      "text/html": [
       "<div>\n",
       "<style scoped>\n",
       "    .dataframe tbody tr th:only-of-type {\n",
       "        vertical-align: middle;\n",
       "    }\n",
       "\n",
       "    .dataframe tbody tr th {\n",
       "        vertical-align: top;\n",
       "    }\n",
       "\n",
       "    .dataframe thead th {\n",
       "        text-align: right;\n",
       "    }\n",
       "</style>\n",
       "<table border=\"1\" class=\"dataframe\">\n",
       "  <thead>\n",
       "    <tr style=\"text-align: right;\">\n",
       "      <th></th>\n",
       "      <th>canonical_composer</th>\n",
       "      <th>canonical_title</th>\n",
       "      <th>split</th>\n",
       "      <th>year</th>\n",
       "      <th>midi_filename</th>\n",
       "      <th>audio_filename</th>\n",
       "      <th>duration</th>\n",
       "      <th>raw_notes</th>\n",
       "      <th>raw_notes_count</th>\n",
       "    </tr>\n",
       "  </thead>\n",
       "  <tbody>\n",
       "    <tr>\n",
       "      <th>0</th>\n",
       "      <td>Alban Berg</td>\n",
       "      <td>Sonata Op. 1</td>\n",
       "      <td>train</td>\n",
       "      <td>2018</td>\n",
       "      <td>2018/MIDI-Unprocessed_Chamber3_MID--AUDIO_10_R...</td>\n",
       "      <td>2018/MIDI-Unprocessed_Chamber3_MID--AUDIO_10_R...</td>\n",
       "      <td>698.661160</td>\n",
       "      <td>[67, 72, 67, 72, 78, 71, 61, 67, 67, 61, 78, 7...</td>\n",
       "      <td>8394</td>\n",
       "    </tr>\n",
       "    <tr>\n",
       "      <th>1</th>\n",
       "      <td>Alban Berg</td>\n",
       "      <td>Sonata Op. 1</td>\n",
       "      <td>train</td>\n",
       "      <td>2008</td>\n",
       "      <td>2008/MIDI-Unprocessed_03_R2_2008_01-03_ORIG_MI...</td>\n",
       "      <td>2008/MIDI-Unprocessed_03_R2_2008_01-03_ORIG_MI...</td>\n",
       "      <td>759.518471</td>\n",
       "      <td>[67, 72, 67, 78, 61, 67, 71, 72, 79, 71, 78, 6...</td>\n",
       "      <td>8412</td>\n",
       "    </tr>\n",
       "    <tr>\n",
       "      <th>2</th>\n",
       "      <td>Alban Berg</td>\n",
       "      <td>Sonata Op. 1</td>\n",
       "      <td>train</td>\n",
       "      <td>2017</td>\n",
       "      <td>2017/MIDI-Unprocessed_066_PIANO066_MID--AUDIO-...</td>\n",
       "      <td>2017/MIDI-Unprocessed_066_PIANO066_MID--AUDIO-...</td>\n",
       "      <td>464.649433</td>\n",
       "      <td>[67, 72, 67, 78, 61, 71, 67, 72, 79, 78, 71, 6...</td>\n",
       "      <td>6652</td>\n",
       "    </tr>\n",
       "    <tr>\n",
       "      <th>3</th>\n",
       "      <td>Alexander Scriabin</td>\n",
       "      <td>24 Preludes Op. 11, No. 13-24</td>\n",
       "      <td>train</td>\n",
       "      <td>2004</td>\n",
       "      <td>2004/MIDI-Unprocessed_XP_21_R1_2004_01_ORIG_MI...</td>\n",
       "      <td>2004/MIDI-Unprocessed_XP_21_R1_2004_01_ORIG_MI...</td>\n",
       "      <td>872.640588</td>\n",
       "      <td>[70, 66, 58, 48, 49, 48, 53, 58, 70, 54, 49, 7...</td>\n",
       "      <td>12632</td>\n",
       "    </tr>\n",
       "    <tr>\n",
       "      <th>4</th>\n",
       "      <td>Alexander Scriabin</td>\n",
       "      <td>3 Etudes, Op. 65</td>\n",
       "      <td>validation</td>\n",
       "      <td>2006</td>\n",
       "      <td>2006/MIDI-Unprocessed_17_R1_2006_01-06_ORIG_MI...</td>\n",
       "      <td>2006/MIDI-Unprocessed_17_R1_2006_01-06_ORIG_MI...</td>\n",
       "      <td>397.857508</td>\n",
       "      <td>[52, 62, 58, 80, 62, 52, 58, 80, 81, 81, 82, 6...</td>\n",
       "      <td>8038</td>\n",
       "    </tr>\n",
       "    <tr>\n",
       "      <th>...</th>\n",
       "      <td>...</td>\n",
       "      <td>...</td>\n",
       "      <td>...</td>\n",
       "      <td>...</td>\n",
       "      <td>...</td>\n",
       "      <td>...</td>\n",
       "      <td>...</td>\n",
       "      <td>...</td>\n",
       "      <td>...</td>\n",
       "    </tr>\n",
       "    <tr>\n",
       "      <th>1275</th>\n",
       "      <td>Wolfgang Amadeus Mozart</td>\n",
       "      <td>Sonata in F Major, K. 280, 1st mov.</td>\n",
       "      <td>test</td>\n",
       "      <td>2013</td>\n",
       "      <td>2013/ORIG-MIDI_03_7_6_13_Group__MID--AUDIO_09_...</td>\n",
       "      <td>2013/ORIG-MIDI_03_7_6_13_Group__MID--AUDIO_09_...</td>\n",
       "      <td>192.605310</td>\n",
       "      <td>[60, 60, 65, 69, 65, 53, 41, 72, 69, 72, 72, 4...</td>\n",
       "      <td>3664</td>\n",
       "    </tr>\n",
       "    <tr>\n",
       "      <th>1276</th>\n",
       "      <td>Wolfgang Amadeus Mozart</td>\n",
       "      <td>Sonata in F Major, K280</td>\n",
       "      <td>test</td>\n",
       "      <td>2004</td>\n",
       "      <td>2004/MIDI-Unprocessed_XP_14_R1_2004_04_ORIG_MI...</td>\n",
       "      <td>2004/MIDI-Unprocessed_XP_14_R1_2004_04_ORIG_MI...</td>\n",
       "      <td>245.315516</td>\n",
       "      <td>[60, 65, 60, 69, 53, 72, 41, 65, 69, 53, 72, 4...</td>\n",
       "      <td>5142</td>\n",
       "    </tr>\n",
       "    <tr>\n",
       "      <th>1279</th>\n",
       "      <td>Wolfgang Amadeus Mozart</td>\n",
       "      <td>Sonata in F Major, K533</td>\n",
       "      <td>validation</td>\n",
       "      <td>2004</td>\n",
       "      <td>2004/MIDI-Unprocessed_SMF_12_01_2004_01-05_ORI...</td>\n",
       "      <td>2004/MIDI-Unprocessed_SMF_12_01_2004_01-05_ORI...</td>\n",
       "      <td>1139.198478</td>\n",
       "      <td>[72, 72, 70, 69, 70, 67, 69, 65, 67, 69, 65, 6...</td>\n",
       "      <td>15114</td>\n",
       "    </tr>\n",
       "    <tr>\n",
       "      <th>1280</th>\n",
       "      <td>Wolfgang Amadeus Mozart</td>\n",
       "      <td>Sonata in F Major, K533/K494</td>\n",
       "      <td>validation</td>\n",
       "      <td>2018</td>\n",
       "      <td>2018/MIDI-Unprocessed_Recital17-19_MID--AUDIO_...</td>\n",
       "      <td>2018/MIDI-Unprocessed_Recital17-19_MID--AUDIO_...</td>\n",
       "      <td>1068.751602</td>\n",
       "      <td>[72, 72, 70, 69, 70, 69, 67, 67, 65, 69, 65, 6...</td>\n",
       "      <td>15066</td>\n",
       "    </tr>\n",
       "    <tr>\n",
       "      <th>1281</th>\n",
       "      <td>Wolfgang Amadeus Mozart</td>\n",
       "      <td>Twelve Variations, K179 (189a)</td>\n",
       "      <td>train</td>\n",
       "      <td>2004</td>\n",
       "      <td>2004/MIDI-Unprocessed_XP_04_R1_2004_01-02_ORIG...</td>\n",
       "      <td>2004/MIDI-Unprocessed_XP_04_R1_2004_01-02_ORIG...</td>\n",
       "      <td>630.266303</td>\n",
       "      <td>[79, 48, 48, 52, 52, 48, 77, 79, 76, 77, 48, 7...</td>\n",
       "      <td>10852</td>\n",
       "    </tr>\n",
       "  </tbody>\n",
       "</table>\n",
       "<p>1061 rows × 9 columns</p>\n",
       "</div>"
      ],
      "text/plain": [
       "           canonical_composer                      canonical_title  \\\n",
       "0                  Alban Berg                         Sonata Op. 1   \n",
       "1                  Alban Berg                         Sonata Op. 1   \n",
       "2                  Alban Berg                         Sonata Op. 1   \n",
       "3          Alexander Scriabin        24 Preludes Op. 11, No. 13-24   \n",
       "4          Alexander Scriabin                     3 Etudes, Op. 65   \n",
       "...                       ...                                  ...   \n",
       "1275  Wolfgang Amadeus Mozart  Sonata in F Major, K. 280, 1st mov.   \n",
       "1276  Wolfgang Amadeus Mozart              Sonata in F Major, K280   \n",
       "1279  Wolfgang Amadeus Mozart              Sonata in F Major, K533   \n",
       "1280  Wolfgang Amadeus Mozart         Sonata in F Major, K533/K494   \n",
       "1281  Wolfgang Amadeus Mozart       Twelve Variations, K179 (189a)   \n",
       "\n",
       "           split  year                                      midi_filename  \\\n",
       "0          train  2018  2018/MIDI-Unprocessed_Chamber3_MID--AUDIO_10_R...   \n",
       "1          train  2008  2008/MIDI-Unprocessed_03_R2_2008_01-03_ORIG_MI...   \n",
       "2          train  2017  2017/MIDI-Unprocessed_066_PIANO066_MID--AUDIO-...   \n",
       "3          train  2004  2004/MIDI-Unprocessed_XP_21_R1_2004_01_ORIG_MI...   \n",
       "4     validation  2006  2006/MIDI-Unprocessed_17_R1_2006_01-06_ORIG_MI...   \n",
       "...          ...   ...                                                ...   \n",
       "1275        test  2013  2013/ORIG-MIDI_03_7_6_13_Group__MID--AUDIO_09_...   \n",
       "1276        test  2004  2004/MIDI-Unprocessed_XP_14_R1_2004_04_ORIG_MI...   \n",
       "1279  validation  2004  2004/MIDI-Unprocessed_SMF_12_01_2004_01-05_ORI...   \n",
       "1280  validation  2018  2018/MIDI-Unprocessed_Recital17-19_MID--AUDIO_...   \n",
       "1281       train  2004  2004/MIDI-Unprocessed_XP_04_R1_2004_01-02_ORIG...   \n",
       "\n",
       "                                         audio_filename     duration  \\\n",
       "0     2018/MIDI-Unprocessed_Chamber3_MID--AUDIO_10_R...   698.661160   \n",
       "1     2008/MIDI-Unprocessed_03_R2_2008_01-03_ORIG_MI...   759.518471   \n",
       "2     2017/MIDI-Unprocessed_066_PIANO066_MID--AUDIO-...   464.649433   \n",
       "3     2004/MIDI-Unprocessed_XP_21_R1_2004_01_ORIG_MI...   872.640588   \n",
       "4     2006/MIDI-Unprocessed_17_R1_2006_01-06_ORIG_MI...   397.857508   \n",
       "...                                                 ...          ...   \n",
       "1275  2013/ORIG-MIDI_03_7_6_13_Group__MID--AUDIO_09_...   192.605310   \n",
       "1276  2004/MIDI-Unprocessed_XP_14_R1_2004_04_ORIG_MI...   245.315516   \n",
       "1279  2004/MIDI-Unprocessed_SMF_12_01_2004_01-05_ORI...  1139.198478   \n",
       "1280  2018/MIDI-Unprocessed_Recital17-19_MID--AUDIO_...  1068.751602   \n",
       "1281  2004/MIDI-Unprocessed_XP_04_R1_2004_01-02_ORIG...   630.266303   \n",
       "\n",
       "                                              raw_notes  raw_notes_count  \n",
       "0     [67, 72, 67, 72, 78, 71, 61, 67, 67, 61, 78, 7...             8394  \n",
       "1     [67, 72, 67, 78, 61, 67, 71, 72, 79, 71, 78, 6...             8412  \n",
       "2     [67, 72, 67, 78, 61, 71, 67, 72, 79, 78, 71, 6...             6652  \n",
       "3     [70, 66, 58, 48, 49, 48, 53, 58, 70, 54, 49, 7...            12632  \n",
       "4     [52, 62, 58, 80, 62, 52, 58, 80, 81, 81, 82, 6...             8038  \n",
       "...                                                 ...              ...  \n",
       "1275  [60, 60, 65, 69, 65, 53, 41, 72, 69, 72, 72, 4...             3664  \n",
       "1276  [60, 65, 60, 69, 53, 72, 41, 65, 69, 53, 72, 4...             5142  \n",
       "1279  [72, 72, 70, 69, 70, 67, 69, 65, 67, 69, 65, 6...            15114  \n",
       "1280  [72, 72, 70, 69, 70, 69, 67, 67, 65, 69, 65, 6...            15066  \n",
       "1281  [79, 48, 48, 52, 52, 48, 77, 79, 76, 77, 48, 7...            10852  \n",
       "\n",
       "[1061 rows x 9 columns]"
      ]
     },
     "execution_count": 6,
     "metadata": {},
     "output_type": "execute_result"
    }
   ],
   "source": [
    "# Subset dataset based on computed boundaries\n",
    "reduced_dataset = dataset[\n",
    "    (dataset.raw_notes_count >= inf_bound) & (dataset.raw_notes_count <= sup_bound)\n",
    "].copy()\n",
    "display(reduced_dataset[[\"raw_notes_count\"]].describe())\n",
    "reduced_dataset"
   ]
  },
  {
   "cell_type": "code",
   "execution_count": 7,
   "metadata": {},
   "outputs": [
    {
     "data": {
      "application/vnd.jupyter.widget-view+json": {
       "model_id": "59ee203dadcc4101be0fb834a4377f04",
       "version_major": 2,
       "version_minor": 0
      },
      "text/plain": [
       "HBox(children=(FloatProgress(value=0.0, description='Pandas Apply', max=1061.0, style=ProgressStyle(descriptio…"
      ]
     },
     "metadata": {},
     "output_type": "display_data"
    },
    {
     "name": "stdout",
     "output_type": "stream",
     "text": [
      "\n"
     ]
    },
    {
     "data": {
      "text/plain": [
       "array([67, 72, 67, ...,  0,  0,  0])"
      ]
     },
     "metadata": {},
     "output_type": "display_data"
    },
    {
     "data": {
      "text/html": [
       "<div>\n",
       "<style scoped>\n",
       "    .dataframe tbody tr th:only-of-type {\n",
       "        vertical-align: middle;\n",
       "    }\n",
       "\n",
       "    .dataframe tbody tr th {\n",
       "        vertical-align: top;\n",
       "    }\n",
       "\n",
       "    .dataframe thead th {\n",
       "        text-align: right;\n",
       "    }\n",
       "</style>\n",
       "<table border=\"1\" class=\"dataframe\">\n",
       "  <thead>\n",
       "    <tr style=\"text-align: right;\">\n",
       "      <th></th>\n",
       "      <th>min_notes_count</th>\n",
       "      <th>max_notes_count</th>\n",
       "    </tr>\n",
       "  </thead>\n",
       "  <tbody>\n",
       "    <tr>\n",
       "      <th>0</th>\n",
       "      <td>2586</td>\n",
       "      <td>19572</td>\n",
       "    </tr>\n",
       "  </tbody>\n",
       "</table>\n",
       "</div>"
      ],
      "text/plain": [
       "   min_notes_count  max_notes_count\n",
       "0             2586            19572"
      ]
     },
     "execution_count": 7,
     "metadata": {},
     "output_type": "execute_result"
    }
   ],
   "source": [
    "# Compute max count to pad array to max length\n",
    "max_notes_count = reduced_dataset.raw_notes_count.max()\n",
    "min_notes_count = reduced_dataset.raw_notes_count.min()\n",
    "\n",
    "# Pad notes array to max length\n",
    "reduced_dataset[\"padded_notes\"] = reduced_dataset.raw_notes.swifter.apply(pad_array)\n",
    "display(reduced_dataset.padded_notes.iloc[0])\n",
    "pandas.DataFrame(\n",
    "    {\"min_notes_count\": [min_notes_count], \"max_notes_count\": max_notes_count}\n",
    ")"
   ]
  },
  {
   "cell_type": "code",
   "execution_count": 8,
   "metadata": {},
   "outputs": [],
   "source": [
    "timesteps = max_notes_count\n",
    "features = 1\n",
    "output_size = len(reduced_dataset.canonical_composer.cat.categories)\n",
    "units = 64\n",
    "\n",
    "\n",
    "def build_model():\n",
    "    mask_layer = keras.layers.Masking(mask_value=0, input_shape=(timesteps, features))\n",
    "    lstm_layer = keras.layers.LSTM(units)\n",
    "    return keras.models.Sequential(\n",
    "        [\n",
    "            mask_layer,\n",
    "            lstm_layer,\n",
    "            keras.layers.BatchNormalization(),\n",
    "            keras.layers.Dense(output_size),\n",
    "        ]\n",
    "    )"
   ]
  },
  {
   "cell_type": "code",
   "execution_count": 9,
   "metadata": {},
   "outputs": [
    {
     "name": "stdout",
     "output_type": "stream",
     "text": [
      "dataset created:\n",
      "84% of the data for training\n",
      "train: (799, 19572, 1), (799,)\n",
      "test:  (152, 19572, 1), (152,)\n"
     ]
    }
   ],
   "source": [
    "train = reduced_dataset[reduced_dataset.split == \"train\"]\n",
    "test = reduced_dataset[reduced_dataset.split == \"test\"]\n",
    "validation = reduced_dataset[reduced_dataset.split == \"validation\"]\n",
    "x_train = np.vstack(train[\"padded_notes\"]).reshape(len(train.index), -1, features)\n",
    "y_train = np.asarray(train[\"canonical_composer\"].cat.codes)\n",
    "x_test = np.vstack(test[\"padded_notes\"]).reshape(len(test.index), -1, features)\n",
    "y_test = np.asarray(test[\"canonical_composer\"].cat.codes)\n",
    "x_validation = np.vstack(validation[\"padded_notes\"]).reshape(len(validation.index), -1, features)\n",
    "y_validation = np.asarray(validation[\"canonical_composer\"].cat.codes)\n",
    "\n",
    "print(\"dataset created:\")\n",
    "print(\n",
    "    f\"{x_train.shape[0]*100/(x_train.shape[0]+x_test.shape[0]):.0f}% of the data for training\"\n",
    ")\n",
    "print(f\"train: {x_train.shape}, {y_train.shape}\")\n",
    "print(f\"test:  {x_test.shape}, {y_test.shape}\")"
   ]
  },
  {
   "cell_type": "code",
   "execution_count": 10,
   "metadata": {
    "scrolled": false
   },
   "outputs": [
    {
     "name": "stdout",
     "output_type": "stream",
     "text": [
      "Model: \"sequential\"\n",
      "_________________________________________________________________\n",
      "Layer (type)                 Output Shape              Param #   \n",
      "=================================================================\n",
      "masking (Masking)            (None, 19572, 1)          0         \n",
      "_________________________________________________________________\n",
      "lstm (LSTM)                  (None, 64)                16896     \n",
      "_________________________________________________________________\n",
      "batch_normalization (BatchNo (None, 64)                256       \n",
      "_________________________________________________________________\n",
      "dense (Dense)                (None, 61)                3965      \n",
      "=================================================================\n",
      "Total params: 21,117\n",
      "Trainable params: 20,989\n",
      "Non-trainable params: 128\n",
      "_________________________________________________________________\n"
     ]
    },
    {
     "data": {
      "text/plain": [
       "None"
      ]
     },
     "metadata": {},
     "output_type": "display_data"
    },
    {
     "name": "stdout",
     "output_type": "stream",
     "text": [
      "Epoch 1/100\n",
      "25/25 [==============================] - ETA: 0s - loss: 4.0281 - accuracy: 0.1076\n",
      "Epoch 00001: val_accuracy improved from -inf to 0.03947, saving model to C:\\Users\\Armand\\Code\\music-neural-network\\app\\lstm\\saved_models\\best.hdf5\n",
      "25/25 [==============================] - 18s 737ms/step - loss: 4.0281 - accuracy: 0.1076 - val_loss: 4.0125 - val_accuracy: 0.0395\n",
      "Epoch 2/100\n",
      "25/25 [==============================] - ETA: 0s - loss: 3.7557 - accuracy: 0.2015\n",
      "Epoch 00002: val_accuracy improved from 0.03947 to 0.09211, saving model to C:\\Users\\Armand\\Code\\music-neural-network\\app\\lstm\\saved_models\\best.hdf5\n",
      "25/25 [==============================] - 17s 684ms/step - loss: 3.7557 - accuracy: 0.2015 - val_loss: 3.8602 - val_accuracy: 0.0921\n",
      "Epoch 3/100\n",
      "25/25 [==============================] - ETA: 0s - loss: 3.5464 - accuracy: 0.2416\n",
      "Epoch 00003: val_accuracy improved from 0.09211 to 0.09868, saving model to C:\\Users\\Armand\\Code\\music-neural-network\\app\\lstm\\saved_models\\best.hdf5\n",
      "25/25 [==============================] - 17s 698ms/step - loss: 3.5464 - accuracy: 0.2416 - val_loss: 3.7128 - val_accuracy: 0.0987\n",
      "Epoch 4/100\n",
      "25/25 [==============================] - ETA: 0s - loss: 3.3596 - accuracy: 0.2678\n",
      "Epoch 00004: val_accuracy improved from 0.09868 to 0.10526, saving model to C:\\Users\\Armand\\Code\\music-neural-network\\app\\lstm\\saved_models\\best.hdf5\n",
      "25/25 [==============================] - 18s 705ms/step - loss: 3.3596 - accuracy: 0.2678 - val_loss: 3.5628 - val_accuracy: 0.1053\n",
      "Epoch 5/100\n",
      "25/25 [==============================] - ETA: 0s - loss: 3.1393 - accuracy: 0.2778\n",
      "Epoch 00005: val_accuracy did not improve from 0.10526\n",
      "25/25 [==============================] - 17s 678ms/step - loss: 3.1393 - accuracy: 0.2778 - val_loss: 3.4135 - val_accuracy: 0.0987\n",
      "Epoch 6/100\n",
      "25/25 [==============================] - ETA: 0s - loss: 2.9191 - accuracy: 0.2703\n",
      "Epoch 00006: val_accuracy did not improve from 0.10526\n",
      "25/25 [==============================] - 17s 686ms/step - loss: 2.9191 - accuracy: 0.2703 - val_loss: 3.2780 - val_accuracy: 0.1053\n",
      "Epoch 7/100\n",
      "25/25 [==============================] - ETA: 0s - loss: 2.7521 - accuracy: 0.2854\n",
      "Epoch 00007: val_accuracy improved from 0.10526 to 0.11184, saving model to C:\\Users\\Armand\\Code\\music-neural-network\\app\\lstm\\saved_models\\best.hdf5\n",
      "25/25 [==============================] - 17s 690ms/step - loss: 2.7521 - accuracy: 0.2854 - val_loss: 3.1419 - val_accuracy: 0.1118\n",
      "Epoch 8/100\n",
      "25/25 [==============================] - ETA: 0s - loss: 2.5886 - accuracy: 0.3179\n",
      "Epoch 00008: val_accuracy did not improve from 0.11184\n",
      "25/25 [==============================] - 17s 687ms/step - loss: 2.5886 - accuracy: 0.3179 - val_loss: 3.0418 - val_accuracy: 0.1118\n",
      "Epoch 9/100\n",
      "25/25 [==============================] - ETA: 0s - loss: 2.4676 - accuracy: 0.3317\n",
      "Epoch 00009: val_accuracy improved from 0.11184 to 0.11842, saving model to C:\\Users\\Armand\\Code\\music-neural-network\\app\\lstm\\saved_models\\best.hdf5\n",
      "25/25 [==============================] - 17s 690ms/step - loss: 2.4676 - accuracy: 0.3317 - val_loss: 2.9772 - val_accuracy: 0.1184\n",
      "Epoch 10/100\n",
      "25/25 [==============================] - ETA: 0s - loss: 2.3787 - accuracy: 0.3692\n",
      "Epoch 00010: val_accuracy improved from 0.11842 to 0.13816, saving model to C:\\Users\\Armand\\Code\\music-neural-network\\app\\lstm\\saved_models\\best.hdf5\n",
      "25/25 [==============================] - 17s 688ms/step - loss: 2.3787 - accuracy: 0.3692 - val_loss: 2.9157 - val_accuracy: 0.1382\n",
      "Epoch 11/100\n",
      "25/25 [==============================] - ETA: 0s - loss: 2.3195 - accuracy: 0.3817\n",
      "Epoch 00011: val_accuracy improved from 0.13816 to 0.17105, saving model to C:\\Users\\Armand\\Code\\music-neural-network\\app\\lstm\\saved_models\\best.hdf5\n",
      "25/25 [==============================] - 17s 697ms/step - loss: 2.3195 - accuracy: 0.3817 - val_loss: 2.8642 - val_accuracy: 0.1711\n",
      "Epoch 12/100\n",
      "25/25 [==============================] - ETA: 0s - loss: 2.2772 - accuracy: 0.3817\n",
      "Epoch 00012: val_accuracy did not improve from 0.17105\n",
      "25/25 [==============================] - 17s 693ms/step - loss: 2.2772 - accuracy: 0.3817 - val_loss: 2.8233 - val_accuracy: 0.1250\n",
      "Epoch 13/100\n",
      "25/25 [==============================] - ETA: 0s - loss: 2.2137 - accuracy: 0.3830\n",
      "Epoch 00013: val_accuracy improved from 0.17105 to 0.17763, saving model to C:\\Users\\Armand\\Code\\music-neural-network\\app\\lstm\\saved_models\\best.hdf5\n",
      "25/25 [==============================] - 18s 701ms/step - loss: 2.2137 - accuracy: 0.3830 - val_loss: 2.6706 - val_accuracy: 0.1776\n",
      "Epoch 14/100\n",
      "25/25 [==============================] - ETA: 0s - loss: 2.1867 - accuracy: 0.3930\n",
      "Epoch 00014: val_accuracy did not improve from 0.17763\n",
      "25/25 [==============================] - 17s 697ms/step - loss: 2.1867 - accuracy: 0.3930 - val_loss: 2.7480 - val_accuracy: 0.1513\n",
      "Epoch 15/100\n",
      "25/25 [==============================] - ETA: 0s - loss: 2.1348 - accuracy: 0.3930\n",
      "Epoch 00015: val_accuracy did not improve from 0.17763\n",
      "25/25 [==============================] - 17s 684ms/step - loss: 2.1348 - accuracy: 0.3930 - val_loss: 2.9957 - val_accuracy: 0.0921\n",
      "Epoch 16/100\n",
      "25/25 [==============================] - ETA: 0s - loss: 2.1185 - accuracy: 0.3967\n",
      "Epoch 00016: val_accuracy did not improve from 0.17763\n",
      "25/25 [==============================] - 17s 693ms/step - loss: 2.1185 - accuracy: 0.3967 - val_loss: 2.6609 - val_accuracy: 0.1513\n",
      "Epoch 17/100\n",
      "25/25 [==============================] - ETA: 0s - loss: 2.1225 - accuracy: 0.4105\n",
      "Epoch 00017: val_accuracy improved from 0.17763 to 0.19737, saving model to C:\\Users\\Armand\\Code\\music-neural-network\\app\\lstm\\saved_models\\best.hdf5\n",
      "25/25 [==============================] - 17s 699ms/step - loss: 2.1225 - accuracy: 0.4105 - val_loss: 2.5609 - val_accuracy: 0.1974\n",
      "Epoch 18/100\n",
      "25/25 [==============================] - ETA: 0s - loss: 2.0559 - accuracy: 0.4255\n",
      "Epoch 00018: val_accuracy improved from 0.19737 to 0.25000, saving model to C:\\Users\\Armand\\Code\\music-neural-network\\app\\lstm\\saved_models\\best.hdf5\n",
      "25/25 [==============================] - 17s 695ms/step - loss: 2.0559 - accuracy: 0.4255 - val_loss: 2.6496 - val_accuracy: 0.2500\n",
      "Epoch 19/100\n",
      "25/25 [==============================] - ETA: 0s - loss: 2.0319 - accuracy: 0.4155\n",
      "Epoch 00019: val_accuracy did not improve from 0.25000\n",
      "25/25 [==============================] - 17s 681ms/step - loss: 2.0319 - accuracy: 0.4155 - val_loss: 2.5995 - val_accuracy: 0.2039\n",
      "Epoch 20/100\n",
      "25/25 [==============================] - ETA: 0s - loss: 2.0042 - accuracy: 0.4368\n",
      "Epoch 00020: val_accuracy did not improve from 0.25000\n",
      "25/25 [==============================] - 17s 687ms/step - loss: 2.0042 - accuracy: 0.4368 - val_loss: 2.6160 - val_accuracy: 0.1908\n"
     ]
    }
   ],
   "source": [
    "model = build_model()\n",
    "model.compile(\n",
    "    loss=keras.losses.SparseCategoricalCrossentropy(from_logits=True),\n",
    "    optimizer=\"adam\",\n",
    "    metrics=[\"accuracy\"],\n",
    ")\n",
    "\n",
    "display(model.summary())\n",
    "\n",
    "early_stopping = tf.keras.callbacks.EarlyStopping(patience=3)\n",
    "checkpoint = keras.callbacks.ModelCheckpoint(\n",
    "    os.path.join(os.getcwd(), \"saved_models\", \"best.hdf5\"),\n",
    "    monitor=\"val_accuracy\",\n",
    "    verbose=1,\n",
    "    save_best_only=True,\n",
    "    mode=\"max\",\n",
    ")\n",
    "\n",
    "last_history = model.fit(\n",
    "    x_train,\n",
    "    y_train,\n",
    "    validation_data=(x_test, y_test),\n",
    "    batch_size=32,\n",
    "    epochs=100,\n",
    "    callbacks=[early_stopping, checkpoint],\n",
    ")"
   ]
  },
  {
   "cell_type": "code",
   "execution_count": 11,
   "metadata": {},
   "outputs": [
    {
     "data": {
      "text/plain": [
       "[Text(0.5, 0, 'Epoch'), Text(0, 0.5, 'Accuracy')]"
      ]
     },
     "execution_count": 11,
     "metadata": {},
     "output_type": "execute_result"
    },
    {
     "data": {
      "image/png": "[encoded data removed]",
      "text/plain": [
       "<Figure size 432x288 with 1 Axes>"
      ]
     },
     "metadata": {
      "needs_background": "light"
     },
     "output_type": "display_data"
    },
    {
     "data": {
      "image/png": "[encoded data removed]",
      "text/plain": [
       "<Figure size 432x288 with 1 Axes>"
      ]
     },
     "metadata": {
      "needs_background": "light"
     },
     "output_type": "display_data"
    }
   ],
   "source": [
    "pandas.DataFrame(last_history.history)[[\"loss\", \"val_loss\"]].plot().set(xlabel=\"Epoch\", ylabel=\"Loss\")\n",
    "pandas.DataFrame(last_history.history)[[\"accuracy\", \"val_accuracy\"]].plot().set(xlabel=\"Epoch\", ylabel=\"Accuracy\")"
   ]
  },
  {
   "cell_type": "code",
   "execution_count": 17,
   "metadata": {},
   "outputs": [
    {
     "name": "stdout",
     "output_type": "stream",
     "text": [
      "Predicted result is: Ludwig van Beethoven, target result is: Franz Liszt\n"
     ]
    }
   ],
   "source": [
    "idx = np.random.choice(len(x_validation))\n",
    "sample, sample_label = x_validation[idx], y_validation[idx]\n",
    "\n",
    "test_model = build_model()\n",
    "test_model.load_weights(os.path.join(os.getcwd(), \"saved_models\", \"best.hdf5\"))\n",
    "result = tf.argmax(test_model.predict_on_batch(tf.expand_dims(sample, 0)), axis=1)\n",
    "print(\n",
    "    f\"Predicted result is: {code_to_label(result.numpy())}, target result is: {code_to_label([sample_label])}\"\n",
    ")"
   ]
  }
 ],
 "metadata": {
  "kernelspec": {
   "display_name": "music-neural-network-CE8S9iX1",
   "language": "python",
   "name": "music-neural-network-ce8s9ix1"
  },
  "language_info": {
   "codemirror_mode": {
    "name": "ipython",
    "version": 3
   },
   "file_extension": ".py",
   "mimetype": "text/x-python",
   "name": "python",
   "nbconvert_exporter": "python",
   "pygments_lexer": "ipython3",
   "version": "3.7.6"
  }
 },
 "nbformat": 4,
 "nbformat_minor": 4
}
