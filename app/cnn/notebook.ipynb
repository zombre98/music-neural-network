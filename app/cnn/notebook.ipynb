{
 "cells": [
  {
   "cell_type": "code",
   "execution_count": 5,
   "metadata": {
    "pycharm": {
     "is_executing": false
    }
   },
   "outputs": [],
   "source": [
    "import os\n",
    "import time\n",
    "\n",
    "import matplotlib\n",
    "import keras\n",
    "import pandas as pd\n",
    "import swifter\n",
    "import numpy as np\n",
    "import json\n",
    "\n",
    "from keras.layers import Flatten, Dense, Dropout\n",
    "from keras.models import Model\n",
    "from keras.optimizers import Adam\n",
    "import tensorflow\n",
    "from IPython.display import display\n",
    "\n",
    "from app.features.MidiData import MidiData\n",
    "\n",
    "DTYPE = {\n",
    "    'canonical_composer': 'category',\n",
    "    'canonical_title': 'object',\n",
    "    'split': 'category',\n",
    "    'year': 'int64',\n",
    "    'midi_filename': 'object',\n",
    "    'audio_filename': 'object',\n",
    "    'duration': 'float64'\n",
    "}\n",
    "\n",
    "FEATURES = 1\n",
    "\n",
    "\n",
    "def number_of_classes(classes):\n",
    "    return len(classes.canonical_composer.cat.categories)\n",
    "\n",
    "\n",
    "def get_midi_data(filename):\n",
    "    return MidiData(os.path.join(\"/Users/zombre/Documents/Kent/music-neural-network/data/maestro-v2.0.0/\", filename))"
   ]
  },
  {
   "cell_type": "code",
   "execution_count": 6,
   "metadata": {
    "pycharm": {
     "is_executing": false
    }
   },
   "outputs": [],
   "source": [
    "data = pd.read_json('/Users/zombre/Documents/Kent/music-neural-network/data/maestro-v2.0.0/maestro-v2.0.0.json')\n",
    "dataset = data.astype(DTYPE)\n",
    "start_time = time.time()"
   ]
  },
  {
   "cell_type": "code",
   "execution_count": 3,
   "metadata": {
    "pycharm": {
     "is_executing": false
    }
   },
   "outputs": [],
   "source": [
    "# dataset['midi_data'] = dataset['midi_filename'].swifter.progress_bar().allow_dask_on_strings().apply(get_midi_data)"
   ]
  },
  {
   "cell_type": "code",
   "execution_count": 7,
   "metadata": {
    "pycharm": {
     "is_executing": false
    }
   },
   "outputs": [],
   "source": [
    "import pickle\n",
    "\n",
    "with open('/Users/zombre/Documents/Kent/music-neural-network/dataset.pickle', 'rb') as f:\n",
    "    dataset = pickle.load(f)"
   ]
  },
  {
   "cell_type": "code",
   "execution_count": 8,
   "metadata": {
    "pycharm": {
     "is_executing": false
    }
   },
   "outputs": [
    {
     "name": "stdout",
     "output_type": "stream",
     "text": [
      "Elapsed time: 0.28285549879074096 minute(s)\n"
     ]
    }
   ],
   "source": [
    "current_time = time.time()\n",
    "print(f'Elapsed time: {(current_time - start_time) / 60} minute(s)')\n"
   ]
  },
  {
   "cell_type": "code",
   "execution_count": 9,
   "metadata": {
    "pycharm": {
     "is_executing": false
    }
   },
   "outputs": [
    {
     "data": {
      "application/vnd.jupyter.widget-view+json": {
       "model_id": "559b98f55afe4f3e85a7436846927a2f",
       "version_major": 2,
       "version_minor": 0
      },
      "text/plain": [
       "HBox(children=(FloatProgress(value=0.0, description='Pandas Apply', max=1282.0, style=ProgressStyle(descriptio…"
      ]
     },
     "metadata": {},
     "output_type": "display_data"
    },
    {
     "name": "stdout",
     "output_type": "stream",
     "text": [
      "\n"
     ]
    },
    {
     "data": {
      "application/vnd.jupyter.widget-view+json": {
       "model_id": "964ea8a3344d429b8f87f15ef62a48ea",
       "version_major": 2,
       "version_minor": 0
      },
      "text/plain": [
       "HBox(children=(FloatProgress(value=0.0, description='Pandas Apply', max=1282.0, style=ProgressStyle(descriptio…"
      ]
     },
     "metadata": {},
     "output_type": "display_data"
    },
    {
     "name": "stdout",
     "output_type": "stream",
     "text": [
      "\n"
     ]
    },
    {
     "data": {
      "application/vnd.jupyter.widget-view+json": {
       "model_id": "ea5a5ab2aab7436fb94b15bc6370e1fd",
       "version_major": 2,
       "version_minor": 0
      },
      "text/plain": [
       "HBox(children=(FloatProgress(value=0.0, description='Pandas Apply', max=1282.0, style=ProgressStyle(descriptio…"
      ]
     },
     "metadata": {},
     "output_type": "display_data"
    },
    {
     "name": "stdout",
     "output_type": "stream",
     "text": [
      "\n"
     ]
    }
   ],
   "source": [
    "def get_notes(midi_data):\n",
    "    return np.asarray([n[\"note\"] for n in midi_data.notes.notes])\n",
    "\n",
    "\n",
    "dataset['raw_notes'] = dataset.midi_data.swifter.apply(get_notes)\n",
    "dataset['raw_notes_count'] = dataset.raw_notes.swifter.apply(lambda a: len(a))\n",
    "\n",
    "\n",
    "def pad_array(a):\n",
    "    return np.pad(a, (0, max_notes_count - a.shape[0]), mode=\"constant\")\n"
   ]
  },
  {
   "cell_type": "code",
   "execution_count": 10,
   "metadata": {
    "pycharm": {
     "is_executing": false
    }
   },
   "outputs": [],
   "source": [
    "def code_to_label(code):\n",
    "    return dataset.canonical_composer.cat.categories[code]\n",
    "\n",
    "\n",
    "def extract_features(features):\n",
    "    midi_data = features['midi_data']\n",
    "    return {'Composer': features['canonical_composer'],\n",
    "            'TempoMax': midi_data.tempos.getMax(), 'TempoMin': midi_data.tempos.getMin(),\n",
    "            'NoteMax': midi_data.notes.getMax(), 'NoteMin': midi_data.notes.getMin(),\n",
    "            'TempoRepetition': midi_data.tempos.getRepetition(), 'NoteRepetition': midi_data.notes.getRepetition(),\n",
    "            'TemposAverageByPartsTime': midi_data.tempos.getAverageByPartsTime(),\n",
    "            'NotesAverageByPartsTime': midi_data.notes.getAverageByPartsTime()}"
   ]
  },
  {
   "cell_type": "code",
   "execution_count": 30,
   "metadata": {
    "pycharm": {
     "is_executing": false,
     "name": "#%%\n"
    }
   },
   "outputs": [],
   "source": [
    "def build_model(input_shape, output_shape):\n",
    "    print(f'Input shape : {input_shape}')\n",
    "    print(f'Output shape : {output_shape}')\n",
    "    model_to_build = keras.Sequential(\n",
    "        [\n",
    "            keras.layers.Conv1D(filters=64, kernel_size=3, activation='relu', input_shape=input_shape),\n",
    "            keras.layers.Conv1D(filters=64, kernel_size=3, activation='relu'),\n",
    "            keras.layers.Dropout(0.5),\n",
    "            keras.layers.MaxPooling1D(pool_size=2),\n",
    "            keras.layers.Flatten(name='flatten_layer'),\n",
    "            keras.layers.Dense(1, activation='relu'),\n",
    "            keras.layers.Dense(output_shape),\n",
    "        ]\n",
    "    )\n",
    "    model_to_build.compile(optimizer='adam', loss='sparse_categorical_crossentropy', metrics=['accuracy'], run_eagerly=True)\n",
    "    model_to_build.summary()\n",
    "    return model_to_build"
   ]
  },
  {
   "cell_type": "code",
   "execution_count": 13,
   "metadata": {
    "pycharm": {
     "is_executing": false,
     "name": "#%%\n"
    }
   },
   "outputs": [
    {
     "data": {
      "text/html": [
       "<div>\n",
       "<style scoped>\n",
       "    .dataframe tbody tr th:only-of-type {\n",
       "        vertical-align: middle;\n",
       "    }\n",
       "\n",
       "    .dataframe tbody tr th {\n",
       "        vertical-align: top;\n",
       "    }\n",
       "\n",
       "    .dataframe thead th {\n",
       "        text-align: right;\n",
       "    }\n",
       "</style>\n",
       "<table border=\"1\" class=\"dataframe\">\n",
       "  <thead>\n",
       "    <tr style=\"text-align: right;\">\n",
       "      <th></th>\n",
       "      <th>raw_notes_count</th>\n",
       "    </tr>\n",
       "  </thead>\n",
       "  <tbody>\n",
       "    <tr>\n",
       "      <th>count</th>\n",
       "      <td>1061.000000</td>\n",
       "    </tr>\n",
       "    <tr>\n",
       "      <th>mean</th>\n",
       "      <td>8804.865221</td>\n",
       "    </tr>\n",
       "    <tr>\n",
       "      <th>std</th>\n",
       "      <td>4492.849176</td>\n",
       "    </tr>\n",
       "    <tr>\n",
       "      <th>min</th>\n",
       "      <td>2586.000000</td>\n",
       "    </tr>\n",
       "    <tr>\n",
       "      <th>25%</th>\n",
       "      <td>4708.000000</td>\n",
       "    </tr>\n",
       "    <tr>\n",
       "      <th>50%</th>\n",
       "      <td>8022.000000</td>\n",
       "    </tr>\n",
       "    <tr>\n",
       "      <th>75%</th>\n",
       "      <td>12326.000000</td>\n",
       "    </tr>\n",
       "    <tr>\n",
       "      <th>max</th>\n",
       "      <td>19572.000000</td>\n",
       "    </tr>\n",
       "  </tbody>\n",
       "</table>\n",
       "</div>"
      ],
      "text/plain": [
       "       raw_notes_count\n",
       "count      1061.000000\n",
       "mean       8804.865221\n",
       "std        4492.849176\n",
       "min        2586.000000\n",
       "25%        4708.000000\n",
       "50%        8022.000000\n",
       "75%       12326.000000\n",
       "max       19572.000000"
      ]
     },
     "metadata": {},
     "output_type": "display_data"
    },
    {
     "data": {
      "text/html": [
       "<div>\n",
       "<style scoped>\n",
       "    .dataframe tbody tr th:only-of-type {\n",
       "        vertical-align: middle;\n",
       "    }\n",
       "\n",
       "    .dataframe tbody tr th {\n",
       "        vertical-align: top;\n",
       "    }\n",
       "\n",
       "    .dataframe thead th {\n",
       "        text-align: right;\n",
       "    }\n",
       "</style>\n",
       "<table border=\"1\" class=\"dataframe\">\n",
       "  <thead>\n",
       "    <tr style=\"text-align: right;\">\n",
       "      <th></th>\n",
       "      <th>raw_notes_count</th>\n",
       "    </tr>\n",
       "  </thead>\n",
       "  <tbody>\n",
       "    <tr>\n",
       "      <th>count</th>\n",
       "      <td>1282.000000</td>\n",
       "    </tr>\n",
       "    <tr>\n",
       "      <th>mean</th>\n",
       "      <td>11117.500780</td>\n",
       "    </tr>\n",
       "    <tr>\n",
       "      <th>std</th>\n",
       "      <td>8545.336245</td>\n",
       "    </tr>\n",
       "    <tr>\n",
       "      <th>min</th>\n",
       "      <td>258.000000</td>\n",
       "    </tr>\n",
       "    <tr>\n",
       "      <th>25%</th>\n",
       "      <td>4702.500000</td>\n",
       "    </tr>\n",
       "    <tr>\n",
       "      <th>50%</th>\n",
       "      <td>8837.000000</td>\n",
       "    </tr>\n",
       "    <tr>\n",
       "      <th>75%</th>\n",
       "      <td>14584.500000</td>\n",
       "    </tr>\n",
       "    <tr>\n",
       "      <th>max</th>\n",
       "      <td>50152.000000</td>\n",
       "    </tr>\n",
       "  </tbody>\n",
       "</table>\n",
       "</div>"
      ],
      "text/plain": [
       "       raw_notes_count\n",
       "count      1282.000000\n",
       "mean      11117.500780\n",
       "std        8545.336245\n",
       "min         258.000000\n",
       "25%        4702.500000\n",
       "50%        8837.000000\n",
       "75%       14584.500000\n",
       "max       50152.000000"
      ]
     },
     "metadata": {},
     "output_type": "display_data"
    },
    {
     "data": {
      "text/html": [
       "<div>\n",
       "<style scoped>\n",
       "    .dataframe tbody tr th:only-of-type {\n",
       "        vertical-align: middle;\n",
       "    }\n",
       "\n",
       "    .dataframe tbody tr th {\n",
       "        vertical-align: top;\n",
       "    }\n",
       "\n",
       "    .dataframe thead th {\n",
       "        text-align: right;\n",
       "    }\n",
       "</style>\n",
       "<table border=\"1\" class=\"dataframe\">\n",
       "  <thead>\n",
       "    <tr style=\"text-align: right;\">\n",
       "      <th></th>\n",
       "      <th>raw_notes_count</th>\n",
       "    </tr>\n",
       "  </thead>\n",
       "  <tbody>\n",
       "    <tr>\n",
       "      <th>0</th>\n",
       "      <td>258</td>\n",
       "    </tr>\n",
       "    <tr>\n",
       "      <th>1</th>\n",
       "      <td>732</td>\n",
       "    </tr>\n",
       "    <tr>\n",
       "      <th>2</th>\n",
       "      <td>732</td>\n",
       "    </tr>\n",
       "    <tr>\n",
       "      <th>3</th>\n",
       "      <td>810</td>\n",
       "    </tr>\n",
       "    <tr>\n",
       "      <th>4</th>\n",
       "      <td>1010</td>\n",
       "    </tr>\n",
       "    <tr>\n",
       "      <th>...</th>\n",
       "      <td>...</td>\n",
       "    </tr>\n",
       "    <tr>\n",
       "      <th>1277</th>\n",
       "      <td>42870</td>\n",
       "    </tr>\n",
       "    <tr>\n",
       "      <th>1278</th>\n",
       "      <td>43042</td>\n",
       "    </tr>\n",
       "    <tr>\n",
       "      <th>1279</th>\n",
       "      <td>46938</td>\n",
       "    </tr>\n",
       "    <tr>\n",
       "      <th>1280</th>\n",
       "      <td>47670</td>\n",
       "    </tr>\n",
       "    <tr>\n",
       "      <th>1281</th>\n",
       "      <td>50152</td>\n",
       "    </tr>\n",
       "  </tbody>\n",
       "</table>\n",
       "<p>1282 rows × 1 columns</p>\n",
       "</div>"
      ],
      "text/plain": [
       "      raw_notes_count\n",
       "0                 258\n",
       "1                 732\n",
       "2                 732\n",
       "3                 810\n",
       "4                1010\n",
       "...               ...\n",
       "1277            42870\n",
       "1278            43042\n",
       "1279            46938\n",
       "1280            47670\n",
       "1281            50152\n",
       "\n",
       "[1282 rows x 1 columns]"
      ]
     },
     "metadata": {},
     "output_type": "display_data"
    },
    {
     "data": {
      "image/png": "[encoded data removed]",
      "text/plain": [
       "<Figure size 432x288 with 1 Axes>"
      ]
     },
     "metadata": {
      "needs_background": "light"
     },
     "output_type": "display_data"
    }
   ],
   "source": [
    "notes_count_mean = dataset.raw_notes_count.mean()\n",
    "inf_bound = notes_count_mean - 1 * dataset.raw_notes_count.std()\n",
    "sup_bound = notes_count_mean + 1 * dataset.raw_notes_count.std()\n",
    "\n",
    "reduced_dataset = dataset[\n",
    "    (dataset.raw_notes_count >= inf_bound) & (dataset.raw_notes_count <= sup_bound)\n",
    "].copy()\n",
    "display(reduced_dataset[[\"raw_notes_count\"]].describe())\n",
    "\n",
    "stats = pd.DataFrame(\n",
    "    {\"raw_notes_count\": dataset.raw_notes_count.sort_values(ignore_index=True),}\n",
    ")\n",
    "plot = stats.plot(style={\"inf_bound\": \"--\", \"sup_bound\": \"--\"})\n",
    "plot.set(xlabel='Sample index', ylabel='Notes count')\n",
    "\n",
    "mean_index = stats.index[stats.raw_notes_count >= notes_count_mean][0]\n",
    "inf_bound_index = stats.index[stats.raw_notes_count >= inf_bound][0]\n",
    "sup_bound_index = stats.index[stats.raw_notes_count >= sup_bound][0]\n",
    "mean_line = plot.axvline(x=mean_index, c=\"orange\", label=\"mean\")\n",
    "\n",
    "# Draw separator lines for selected subset\n",
    "inf_bound_line = plot.axvline(x=inf_bound_index, c=\"green\", ls=\"--\", label=\"inf_bound\")\n",
    "sup_bound_line = plot.axvline(x=sup_bound_index, c=\"red\", ls=\"--\", label=\"sup_bound\")\n",
    "plot.legend(handles=[mean_line, inf_bound_line, sup_bound_line])\n",
    "\n",
    "# Extract stats for the notes counts\n",
    "display(dataset[[\"raw_notes_count\"]].describe())\n",
    "display(stats)"
   ]
  },
  {
   "cell_type": "code",
   "execution_count": 21,
   "metadata": {},
   "outputs": [
    {
     "data": {
      "application/vnd.jupyter.widget-view+json": {
       "model_id": "8407fec033f244928b3f82ee4f3f52fa",
       "version_major": 2,
       "version_minor": 0
      },
      "text/plain": [
       "HBox(children=(FloatProgress(value=0.0, description='Pandas Apply', max=1061.0, style=ProgressStyle(descriptio…"
      ]
     },
     "metadata": {},
     "output_type": "display_data"
    },
    {
     "name": "stdout",
     "output_type": "stream",
     "text": [
      "\n"
     ]
    }
   ],
   "source": [
    "max_notes_count = reduced_dataset.raw_notes_count.max()\n",
    "min_notes_count = reduced_dataset.raw_notes_count.min()\n",
    "\n",
    "# Pad notes array to max length\n",
    "reduced_dataset[\"padded_notes\"] = reduced_dataset.raw_notes.swifter.apply(pad_array)"
   ]
  },
  {
   "cell_type": "code",
   "execution_count": 31,
   "metadata": {
    "pycharm": {
     "is_executing": false
    }
   },
   "outputs": [],
   "source": [
    "def format_data(data_to_format):\n",
    "    train = data_to_format[data_to_format.split == 'train']\n",
    "    test = data_to_format[data_to_format.split == 'test']\n",
    "    validation = data_to_format[data_to_format.split == 'validation']\n",
    "    x_split_train = np.vstack(train['padded_notes']).reshape(len(train.index), -1, FEATURES)\n",
    "    y_split_train = np.asarray(train['canonical_composer'].cat.codes)\n",
    "    x_split_test = np.vstack(test['padded_notes']).reshape(len(test.index), -1, FEATURES)\n",
    "    y_split_test = np.asarray(test['canonical_composer'].cat.codes)\n",
    "    x_split_validation = np.vstack(validation['padded_notes']).reshape(len(validation.index), -1, FEATURES)\n",
    "    y_split_validation = np.asarray(validation['canonical_composer'].cat.codes)\n",
    "\n",
    "    return x_split_train, y_split_train, x_split_test, y_split_test, x_split_validation, y_split_validation\n",
    "\n",
    "\n",
    "NUM_CLASSES = number_of_classes(reduced_dataset)"
   ]
  },
  {
   "cell_type": "code",
   "execution_count": 23,
   "metadata": {
    "pycharm": {
     "is_executing": false
    }
   },
   "outputs": [],
   "source": [
    "x_train, y_train, x_test, y_test, x_validation, y_validation = format_data(reduced_dataset)"
   ]
  },
  {
   "cell_type": "code",
   "execution_count": 32,
   "metadata": {
    "pycharm": {
     "is_executing": false
    }
   },
   "outputs": [
    {
     "name": "stdout",
     "output_type": "stream",
     "text": [
      "Input shape : (19572, 1)\n",
      "Output shape : 61\n",
      "Model: \"sequential_7\"\n",
      "_________________________________________________________________\n",
      "Layer (type)                 Output Shape              Param #   \n",
      "=================================================================\n",
      "conv1d_14 (Conv1D)           (None, 19570, 64)         256       \n",
      "_________________________________________________________________\n",
      "conv1d_15 (Conv1D)           (None, 19568, 64)         12352     \n",
      "_________________________________________________________________\n",
      "dropout_7 (Dropout)          (None, 19568, 64)         0         \n",
      "_________________________________________________________________\n",
      "max_pooling1d_7 (MaxPooling1 (None, 9784, 64)          0         \n",
      "_________________________________________________________________\n",
      "flatten_layer (Flatten)      (None, 626176)            0         \n",
      "_________________________________________________________________\n",
      "dense_14 (Dense)             (None, 1)                 626177    \n",
      "_________________________________________________________________\n",
      "dense_15 (Dense)             (None, 61)                122       \n",
      "=================================================================\n",
      "Total params: 638,907\n",
      "Trainable params: 638,907\n",
      "Non-trainable params: 0\n",
      "_________________________________________________________________\n"
     ]
    }
   ],
   "source": [
    "model = build_model(x_train[0].shape, NUM_CLASSES)"
   ]
  },
  {
   "cell_type": "code",
   "execution_count": null,
   "metadata": {
    "pycharm": {
     "is_executing": false
    }
   },
   "outputs": [],
   "source": [
    "keras.utils.plot_model(model, to_file='model.png', show_shapes=True)"
   ]
  },
  {
   "cell_type": "code",
   "execution_count": null,
   "metadata": {
    "pycharm": {
     "is_executing": false
    }
   },
   "outputs": [],
   "source": [
    "early_stopping = keras.callbacks.EarlyStopping(patience=10)\n",
    "checkpoint = keras.callbacks.ModelCheckpoint(f'./models/model.h5',\n",
    "                                             monitor='val_accuracy', verbose=2,\n",
    "                                             save_best_only=True, mode='max')\n",
    "history = model.fit(x_train, y_train, batch_size=32, epochs=16,\n",
    "                    callbacks=[early_stopping, checkpoint],\n",
    "                    validation_data=(x_test, y_test), use_multiprocessing=True)\n",
    "loss, accuracy = model.evaluate(x_test, y_test, steps=10, use_multiprocessing=True)\n",
    "print(f'Model has achieved {accuracy}% of accuracy with {loss} loss')\n"
   ]
  },
  {
   "cell_type": "code",
   "execution_count": null,
   "metadata": {
    "pycharm": {
     "is_executing": false
    }
   },
   "outputs": [],
   "source": [
    "pd.DataFrame(history.history)[[\"loss\", \"val_loss\"]].plot().set(xlabel=\"Epoch\", ylabel=\"Loss\")\n",
    "pd.DataFrame(history.history)[[\"accuracy\", \"val_accuracy\"]].plot().set(xlabel=\"Epoch\", ylabel=\"Accuracy\")"
   ]
  },
  {
   "cell_type": "code",
   "execution_count": null,
   "metadata": {
    "pycharm": {
     "is_executing": true
    }
   },
   "outputs": [],
   "source": [
    "idx = np.random.choice(len(x_test))\n",
    "sample, sample_label = x_test[idx], y_test[idx]\n",
    "\n",
    "test_model = build_model(x_test[0].shape, NUM_CLASSES)\n",
    "test_model.set_weights(model.get_weights())\n",
    "result = tensorflow.argmax(test_model.predict_on_batch(tensorflow.expand_dims(sample, 0)), axis=1)\n",
    "print(f'Predicted result is: {code_to_label(result)}, target result is: {code_to_label(sample_label)}, idx: {idx}')"
   ]
  }
 ],
 "metadata": {
  "kernelspec": {
   "display_name": "Python 3",
   "language": "python",
   "name": "python3"
  },
  "language_info": {
   "codemirror_mode": {
    "name": "ipython",
    "version": 3
   },
   "file_extension": ".py",
   "mimetype": "text/x-python",
   "name": "python",
   "nbconvert_exporter": "python",
   "pygments_lexer": "ipython3",
   "version": "3.7.3"
  },
  "pycharm": {
   "stem_cell": {
    "cell_type": "raw",
    "metadata": {
     "collapsed": false
    },
    "source": []
   }
  }
 },
 "nbformat": 4,
 "nbformat_minor": 4
}
