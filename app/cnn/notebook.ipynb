{
 "cells": [
  {
   "cell_type": "code",
   "execution_count": 16,
   "metadata": {
    "pycharm": {
     "is_executing": false
    }
   },
   "outputs": [],
   "source": [
    "import os\n",
    "import time\n",
    "\n",
    "import matplotlib\n",
    "import keras\n",
    "import pandas as pd\n",
    "import swifter\n",
    "import numpy as np\n",
    "import json\n",
    "import pickle\n",
    "\n",
    "from keras.layers import Flatten, Dense, Dropout\n",
    "from keras.models import Model\n",
    "from keras.optimizers import Adam\n",
    "import tensorflow\n",
    "from IPython.display import display\n",
    "\n",
    "from app.features.MidiData import MidiData\n",
    "\n",
    "DTYPE = {\n",
    "    'canonical_composer': 'category',\n",
    "    'canonical_title': 'object',\n",
    "    'split': 'category',\n",
    "    'year': 'int64',\n",
    "    'midi_filename': 'object',\n",
    "    'audio_filename': 'object',\n",
    "    'duration': 'float64'\n",
    "}\n",
    "\n",
    "FEATURES = 1\n",
    "\n",
    "\n",
    "def number_of_classes(classes):\n",
    "    return len(classes.canonical_composer.cat.categories)\n",
    "\n",
    "\n",
    "def get_midi_data(filename):\n",
    "    return MidiData(os.path.join(\"/Users/zombre/Documents/Kent/music-neural-network/data/maestro-v2.0.0/\", filename))"
   ]
  },
  {
   "cell_type": "code",
   "execution_count": 17,
   "metadata": {
    "pycharm": {
     "is_executing": false
    }
   },
   "outputs": [],
   "source": [
    "data = pd.read_json('/Users/zombre/Documents/Kent/music-neural-network/data/maestro-v2.0.0/maestro-v2.0.0.json')\n",
    "dataset = data.astype(DTYPE)\n",
    "start_time = time.time()"
   ]
  },
  {
   "cell_type": "code",
   "execution_count": 18,
   "metadata": {
    "pycharm": {
     "is_executing": false
    }
   },
   "outputs": [
    {
     "data": {
      "application/vnd.jupyter.widget-view+json": {
       "model_id": "3110744f9f5a4aef9be2cafb02bd73d6",
       "version_major": 2,
       "version_minor": 0
      },
      "text/plain": [
       "HBox(children=(FloatProgress(value=0.0, description='Dask Apply', max=16.0, style=ProgressStyle(description_wi…"
      ]
     },
     "metadata": {},
     "output_type": "display_data"
    },
    {
     "name": "stdout",
     "output_type": "stream",
     "text": [
      "\n"
     ]
    }
   ],
   "source": [
    "dataset['midi_data'] = dataset['midi_filename'].swifter.progress_bar().allow_dask_on_strings().apply(get_midi_data)"
   ]
  },
  {
   "cell_type": "code",
   "execution_count": 20,
   "metadata": {},
   "outputs": [
    {
     "name": "stdout",
     "output_type": "stream",
     "text": [
      "           canonical_composer                 canonical_title       split  \\\n",
      "0                  Alban Berg                    Sonata Op. 1       train   \n",
      "1                  Alban Berg                    Sonata Op. 1       train   \n",
      "2                  Alban Berg                    Sonata Op. 1       train   \n",
      "3          Alexander Scriabin   24 Preludes Op. 11, No. 13-24       train   \n",
      "4          Alexander Scriabin                3 Etudes, Op. 65  validation   \n",
      "...                       ...                             ...         ...   \n",
      "1277  Wolfgang Amadeus Mozart         Sonata in F Major, K280        test   \n",
      "1278  Wolfgang Amadeus Mozart         Sonata in F Major, K280       train   \n",
      "1279  Wolfgang Amadeus Mozart         Sonata in F Major, K533  validation   \n",
      "1280  Wolfgang Amadeus Mozart    Sonata in F Major, K533/K494  validation   \n",
      "1281  Wolfgang Amadeus Mozart  Twelve Variations, K179 (189a)       train   \n",
      "\n",
      "      year                                      midi_filename  \\\n",
      "0     2018  2018/MIDI-Unprocessed_Chamber3_MID--AUDIO_10_R...   \n",
      "1     2008  2008/MIDI-Unprocessed_03_R2_2008_01-03_ORIG_MI...   \n",
      "2     2017  2017/MIDI-Unprocessed_066_PIANO066_MID--AUDIO-...   \n",
      "3     2004  2004/MIDI-Unprocessed_XP_21_R1_2004_01_ORIG_MI...   \n",
      "4     2006  2006/MIDI-Unprocessed_17_R1_2006_01-06_ORIG_MI...   \n",
      "...    ...                                                ...   \n",
      "1277  2004  2004/MIDI-Unprocessed_XP_14_R1_2004_04_ORIG_MI...   \n",
      "1278  2004  2004/MIDI-Unprocessed_XP_14_R1_2004_04_ORIG_MI...   \n",
      "1279  2004  2004/MIDI-Unprocessed_SMF_12_01_2004_01-05_ORI...   \n",
      "1280  2018  2018/MIDI-Unprocessed_Recital17-19_MID--AUDIO_...   \n",
      "1281  2004  2004/MIDI-Unprocessed_XP_04_R1_2004_01-02_ORIG...   \n",
      "\n",
      "                                         audio_filename     duration  \\\n",
      "0     2018/MIDI-Unprocessed_Chamber3_MID--AUDIO_10_R...   698.661160   \n",
      "1     2008/MIDI-Unprocessed_03_R2_2008_01-03_ORIG_MI...   759.518471   \n",
      "2     2017/MIDI-Unprocessed_066_PIANO066_MID--AUDIO-...   464.649433   \n",
      "3     2004/MIDI-Unprocessed_XP_21_R1_2004_01_ORIG_MI...   872.640588   \n",
      "4     2006/MIDI-Unprocessed_17_R1_2006_01-06_ORIG_MI...   397.857508   \n",
      "...                                                 ...          ...   \n",
      "1277  2004/MIDI-Unprocessed_XP_14_R1_2004_04_ORIG_MI...   241.470442   \n",
      "1278  2004/MIDI-Unprocessed_XP_14_R1_2004_04_ORIG_MI...   114.696243   \n",
      "1279  2004/MIDI-Unprocessed_SMF_12_01_2004_01-05_ORI...  1139.198478   \n",
      "1280  2018/MIDI-Unprocessed_Recital17-19_MID--AUDIO_...  1068.751602   \n",
      "1281  2004/MIDI-Unprocessed_XP_04_R1_2004_01-02_ORIG...   630.266303   \n",
      "\n",
      "                                              midi_data  \n",
      "0     <app.features.MidiData.MidiData object at 0x14...  \n",
      "1     <app.features.MidiData.MidiData object at 0x14...  \n",
      "2     <app.features.MidiData.MidiData object at 0x14...  \n",
      "3     <app.features.MidiData.MidiData object at 0x14...  \n",
      "4     <app.features.MidiData.MidiData object at 0x14...  \n",
      "...                                                 ...  \n",
      "1277  <app.features.MidiData.MidiData object at 0x1a...  \n",
      "1278  <app.features.MidiData.MidiData object at 0x1a...  \n",
      "1279  <app.features.MidiData.MidiData object at 0x1a...  \n",
      "1280  <app.features.MidiData.MidiData object at 0x1a...  \n",
      "1281  <app.features.MidiData.MidiData object at 0x1a...  \n",
      "\n",
      "[1282 rows x 8 columns]\n"
     ]
    }
   ],
   "source": [
    "print(dataset)"
   ]
  },
  {
   "cell_type": "code",
   "execution_count": 19,
   "metadata": {},
   "outputs": [],
   "source": [
    "pickle.dump(dataset, open('/Users/zombre/Documents/Kent/music-neural-network/dataset.pickle', 'wb'))"
   ]
  },
  {
   "cell_type": "code",
   "execution_count": 21,
   "metadata": {
    "pycharm": {
     "is_executing": false
    }
   },
   "outputs": [],
   "source": [
    "with open('/Users/zombre/Documents/Kent/music-neural-network/dataset.pickle', 'rb') as f:\n",
    "    dataset = pickle.load(f)"
   ]
  },
  {
   "cell_type": "code",
   "execution_count": 22,
   "metadata": {
    "pycharm": {
     "is_executing": false
    }
   },
   "outputs": [
    {
     "name": "stdout",
     "output_type": "stream",
     "text": [
      "Elapsed time: 10.549318750699362 minute(s)\n"
     ]
    }
   ],
   "source": [
    "current_time = time.time()\n",
    "print(f'Elapsed time: {(current_time - start_time) / 60} minute(s)')"
   ]
  },
  {
   "cell_type": "code",
   "execution_count": 34,
   "metadata": {
    "pycharm": {
     "is_executing": false
    }
   },
   "outputs": [
    {
     "data": {
      "application/vnd.jupyter.widget-view+json": {
       "model_id": "c45cd844526b4b2cbeb0af566ffd2823",
       "version_major": 2,
       "version_minor": 0
      },
      "text/plain": [
       "HBox(children=(FloatProgress(value=0.0, description='Pandas Apply', max=1282.0, style=ProgressStyle(descriptio…"
      ]
     },
     "metadata": {},
     "output_type": "display_data"
    },
    {
     "name": "stdout",
     "output_type": "stream",
     "text": [
      "\n"
     ]
    },
    {
     "data": {
      "application/vnd.jupyter.widget-view+json": {
       "model_id": "ae9d533fed4b40e2ada6247bb056a0c2",
       "version_major": 2,
       "version_minor": 0
      },
      "text/plain": [
       "HBox(children=(FloatProgress(value=0.0, description='Pandas Apply', max=1282.0, style=ProgressStyle(descriptio…"
      ]
     },
     "metadata": {},
     "output_type": "display_data"
    },
    {
     "name": "stdout",
     "output_type": "stream",
     "text": [
      "\n",
      "0       [67, 72, 67, 72, 78, 71, 61, 67, 67, 61, 78, 7...\n",
      "1       [67, 72, 67, 78, 61, 67, 71, 72, 79, 71, 78, 6...\n",
      "2       [67, 72, 67, 78, 61, 71, 67, 72, 79, 78, 71, 6...\n",
      "3       [70, 66, 58, 48, 49, 48, 53, 58, 70, 54, 49, 7...\n",
      "4       [52, 62, 58, 80, 62, 52, 58, 80, 81, 81, 82, 6...\n",
      "                              ...                        \n",
      "1277    [73, 56, 53, 73, 72, 72, 73, 73, 72, 73, 72, 7...\n",
      "1278    [77, 81, 65, 77, 72, 81, 65, 72, 76, 79, 70, 7...\n",
      "1279    [72, 72, 70, 69, 70, 67, 69, 65, 67, 69, 65, 6...\n",
      "1280    [72, 72, 70, 69, 70, 69, 67, 67, 65, 69, 65, 6...\n",
      "1281    [79, 48, 48, 52, 52, 48, 77, 79, 76, 77, 48, 7...\n",
      "Name: raw_notes, Length: 1282, dtype: object\n"
     ]
    }
   ],
   "source": [
    "def get_notes(midi_data):\n",
    "    return np.asarray([n[0] for n in midi_data.notes.data])\n",
    "\n",
    "\n",
    "dataset['raw_notes'] = dataset.midi_data.swifter.apply(get_notes)\n",
    "dataset['raw_notes_count'] = dataset.raw_notes.swifter.apply(lambda a: len(a))"
   ]
  },
  {
   "cell_type": "code",
   "execution_count": 118,
   "metadata": {
    "pycharm": {
     "is_executing": false
    }
   },
   "outputs": [],
   "source": [
    "def code_to_label(code):\n",
    "    return dataset.canonical_composer.cat.categories[code]"
   ]
  },
  {
   "cell_type": "code",
   "execution_count": 36,
   "metadata": {
    "pycharm": {
     "is_executing": false,
     "name": "#%%\n"
    }
   },
   "outputs": [
    {
     "data": {
      "text/html": [
       "<div>\n",
       "<style scoped>\n",
       "    .dataframe tbody tr th:only-of-type {\n",
       "        vertical-align: middle;\n",
       "    }\n",
       "\n",
       "    .dataframe tbody tr th {\n",
       "        vertical-align: top;\n",
       "    }\n",
       "\n",
       "    .dataframe thead th {\n",
       "        text-align: right;\n",
       "    }\n",
       "</style>\n",
       "<table border=\"1\" class=\"dataframe\">\n",
       "  <thead>\n",
       "    <tr style=\"text-align: right;\">\n",
       "      <th></th>\n",
       "      <th>raw_notes_count</th>\n",
       "    </tr>\n",
       "  </thead>\n",
       "  <tbody>\n",
       "    <tr>\n",
       "      <th>count</th>\n",
       "      <td>1061.000000</td>\n",
       "    </tr>\n",
       "    <tr>\n",
       "      <th>mean</th>\n",
       "      <td>8804.865221</td>\n",
       "    </tr>\n",
       "    <tr>\n",
       "      <th>std</th>\n",
       "      <td>4492.849176</td>\n",
       "    </tr>\n",
       "    <tr>\n",
       "      <th>min</th>\n",
       "      <td>2586.000000</td>\n",
       "    </tr>\n",
       "    <tr>\n",
       "      <th>25%</th>\n",
       "      <td>4708.000000</td>\n",
       "    </tr>\n",
       "    <tr>\n",
       "      <th>50%</th>\n",
       "      <td>8022.000000</td>\n",
       "    </tr>\n",
       "    <tr>\n",
       "      <th>75%</th>\n",
       "      <td>12326.000000</td>\n",
       "    </tr>\n",
       "    <tr>\n",
       "      <th>max</th>\n",
       "      <td>19572.000000</td>\n",
       "    </tr>\n",
       "  </tbody>\n",
       "</table>\n",
       "</div>"
      ],
      "text/plain": [
       "       raw_notes_count\n",
       "count      1061.000000\n",
       "mean       8804.865221\n",
       "std        4492.849176\n",
       "min        2586.000000\n",
       "25%        4708.000000\n",
       "50%        8022.000000\n",
       "75%       12326.000000\n",
       "max       19572.000000"
      ]
     },
     "metadata": {},
     "output_type": "display_data"
    },
    {
     "data": {
      "text/html": [
       "<div>\n",
       "<style scoped>\n",
       "    .dataframe tbody tr th:only-of-type {\n",
       "        vertical-align: middle;\n",
       "    }\n",
       "\n",
       "    .dataframe tbody tr th {\n",
       "        vertical-align: top;\n",
       "    }\n",
       "\n",
       "    .dataframe thead th {\n",
       "        text-align: right;\n",
       "    }\n",
       "</style>\n",
       "<table border=\"1\" class=\"dataframe\">\n",
       "  <thead>\n",
       "    <tr style=\"text-align: right;\">\n",
       "      <th></th>\n",
       "      <th>raw_notes_count</th>\n",
       "    </tr>\n",
       "  </thead>\n",
       "  <tbody>\n",
       "    <tr>\n",
       "      <th>count</th>\n",
       "      <td>1282.000000</td>\n",
       "    </tr>\n",
       "    <tr>\n",
       "      <th>mean</th>\n",
       "      <td>11117.500780</td>\n",
       "    </tr>\n",
       "    <tr>\n",
       "      <th>std</th>\n",
       "      <td>8545.336245</td>\n",
       "    </tr>\n",
       "    <tr>\n",
       "      <th>min</th>\n",
       "      <td>258.000000</td>\n",
       "    </tr>\n",
       "    <tr>\n",
       "      <th>25%</th>\n",
       "      <td>4702.500000</td>\n",
       "    </tr>\n",
       "    <tr>\n",
       "      <th>50%</th>\n",
       "      <td>8837.000000</td>\n",
       "    </tr>\n",
       "    <tr>\n",
       "      <th>75%</th>\n",
       "      <td>14584.500000</td>\n",
       "    </tr>\n",
       "    <tr>\n",
       "      <th>max</th>\n",
       "      <td>50152.000000</td>\n",
       "    </tr>\n",
       "  </tbody>\n",
       "</table>\n",
       "</div>"
      ],
      "text/plain": [
       "       raw_notes_count\n",
       "count      1282.000000\n",
       "mean      11117.500780\n",
       "std        8545.336245\n",
       "min         258.000000\n",
       "25%        4702.500000\n",
       "50%        8837.000000\n",
       "75%       14584.500000\n",
       "max       50152.000000"
      ]
     },
     "metadata": {},
     "output_type": "display_data"
    },
    {
     "data": {
      "text/html": [
       "<div>\n",
       "<style scoped>\n",
       "    .dataframe tbody tr th:only-of-type {\n",
       "        vertical-align: middle;\n",
       "    }\n",
       "\n",
       "    .dataframe tbody tr th {\n",
       "        vertical-align: top;\n",
       "    }\n",
       "\n",
       "    .dataframe thead th {\n",
       "        text-align: right;\n",
       "    }\n",
       "</style>\n",
       "<table border=\"1\" class=\"dataframe\">\n",
       "  <thead>\n",
       "    <tr style=\"text-align: right;\">\n",
       "      <th></th>\n",
       "      <th>raw_notes_count</th>\n",
       "    </tr>\n",
       "  </thead>\n",
       "  <tbody>\n",
       "    <tr>\n",
       "      <th>0</th>\n",
       "      <td>258</td>\n",
       "    </tr>\n",
       "    <tr>\n",
       "      <th>1</th>\n",
       "      <td>732</td>\n",
       "    </tr>\n",
       "    <tr>\n",
       "      <th>2</th>\n",
       "      <td>732</td>\n",
       "    </tr>\n",
       "    <tr>\n",
       "      <th>3</th>\n",
       "      <td>810</td>\n",
       "    </tr>\n",
       "    <tr>\n",
       "      <th>4</th>\n",
       "      <td>1010</td>\n",
       "    </tr>\n",
       "    <tr>\n",
       "      <th>...</th>\n",
       "      <td>...</td>\n",
       "    </tr>\n",
       "    <tr>\n",
       "      <th>1277</th>\n",
       "      <td>42870</td>\n",
       "    </tr>\n",
       "    <tr>\n",
       "      <th>1278</th>\n",
       "      <td>43042</td>\n",
       "    </tr>\n",
       "    <tr>\n",
       "      <th>1279</th>\n",
       "      <td>46938</td>\n",
       "    </tr>\n",
       "    <tr>\n",
       "      <th>1280</th>\n",
       "      <td>47670</td>\n",
       "    </tr>\n",
       "    <tr>\n",
       "      <th>1281</th>\n",
       "      <td>50152</td>\n",
       "    </tr>\n",
       "  </tbody>\n",
       "</table>\n",
       "<p>1282 rows × 1 columns</p>\n",
       "</div>"
      ],
      "text/plain": [
       "      raw_notes_count\n",
       "0                 258\n",
       "1                 732\n",
       "2                 732\n",
       "3                 810\n",
       "4                1010\n",
       "...               ...\n",
       "1277            42870\n",
       "1278            43042\n",
       "1279            46938\n",
       "1280            47670\n",
       "1281            50152\n",
       "\n",
       "[1282 rows x 1 columns]"
      ]
     },
     "metadata": {},
     "output_type": "display_data"
    },
    {
     "data": {
      "image/png": "[encoded data removed]",
      "text/plain": [
       "<Figure size 432x288 with 1 Axes>"
      ]
     },
     "metadata": {
      "needs_background": "light"
     },
     "output_type": "display_data"
    }
   ],
   "source": [
    "notes_count_mean = dataset.raw_notes_count.mean()\n",
    "inf_bound = notes_count_mean - 1 * dataset.raw_notes_count.std()\n",
    "sup_bound = notes_count_mean + 1 * dataset.raw_notes_count.std()\n",
    "\n",
    "reduced_dataset = dataset[\n",
    "    (dataset.raw_notes_count >= inf_bound) & (dataset.raw_notes_count <= sup_bound)\n",
    "].copy()\n",
    "display(reduced_dataset[[\"raw_notes_count\"]].describe())\n",
    "\n",
    "stats = pd.DataFrame(\n",
    "    {\"raw_notes_count\": dataset.raw_notes_count.sort_values(ignore_index=True),}\n",
    ")\n",
    "plot = stats.plot(style={\"inf_bound\": \"--\", \"sup_bound\": \"--\"})\n",
    "plot.set(xlabel='Sample index', ylabel='Notes count')\n",
    "\n",
    "mean_index = stats.index[stats.raw_notes_count >= notes_count_mean][0]\n",
    "inf_bound_index = stats.index[stats.raw_notes_count >= inf_bound][0]\n",
    "sup_bound_index = stats.index[stats.raw_notes_count >= sup_bound][0]\n",
    "mean_line = plot.axvline(x=mean_index, c=\"orange\", label=\"mean\")\n",
    "\n",
    "# Draw separator lines for selected subset\n",
    "inf_bound_line = plot.axvline(x=inf_bound_index, c=\"green\", ls=\"--\", label=\"inf_bound\")\n",
    "sup_bound_line = plot.axvline(x=sup_bound_index, c=\"red\", ls=\"--\", label=\"sup_bound\")\n",
    "plot.legend(handles=[mean_line, inf_bound_line, sup_bound_line])\n",
    "\n",
    "# Extract stats for the notes counts\n",
    "display(dataset[[\"raw_notes_count\"]].describe())\n",
    "display(stats)"
   ]
  },
  {
   "cell_type": "code",
   "execution_count": 64,
   "metadata": {},
   "outputs": [
    {
     "data": {
      "application/vnd.jupyter.widget-view+json": {
       "model_id": "4c2bce24349d40e39fd20c4363be4007",
       "version_major": 2,
       "version_minor": 0
      },
      "text/plain": [
       "HBox(children=(FloatProgress(value=0.0, description='Pandas Apply', max=1061.0, style=ProgressStyle(descriptio…"
      ]
     },
     "metadata": {},
     "output_type": "display_data"
    },
    {
     "name": "stdout",
     "output_type": "stream",
     "text": [
      "\n"
     ]
    }
   ],
   "source": [
    "max_notes_count = reduced_dataset.raw_notes_count.max()\n",
    "min_notes_count = reduced_dataset.raw_notes_count.min()\n",
    "\n",
    "def pad_array(a):\n",
    "    return a[0:min_notes_count]\n",
    "\n",
    "# Pad notes array to max length\n",
    "reduced_dataset[\"padded_notes\"] = reduced_dataset.raw_notes.swifter.apply(pad_array)"
   ]
  },
  {
   "cell_type": "code",
   "execution_count": 114,
   "metadata": {
    "pycharm": {
     "is_executing": false
    }
   },
   "outputs": [],
   "source": [
    "def format_data(data_to_format):\n",
    "    train = data_to_format[data_to_format.split == 'train']\n",
    "    test = data_to_format[data_to_format.split == 'test']\n",
    "    validation = data_to_format[data_to_format.split == 'validation']\n",
    "    x_split_train = np.vstack(train['padded_notes']).reshape(len(train.index), -1, FEATURES)\n",
    "    y_split_train = np.asarray(train['canonical_composer'].cat.codes)\n",
    "    x_split_test = np.vstack(test['padded_notes']).reshape(len(test.index), -1, FEATURES)\n",
    "    y_split_test = np.asarray(test['canonical_composer'].cat.codes)\n",
    "    x_split_validation = np.vstack(validation['padded_notes']).reshape(len(validation.index), -1, FEATURES)\n",
    "    y_split_validation = np.asarray(validation['canonical_composer'].cat.codes)\n",
    "\n",
    "    return x_split_train, y_split_train, x_split_test, y_split_test, x_split_validation, y_split_validation\n",
    "\n",
    "\n",
    "NUM_CLASSES = number_of_classes(dataset)"
   ]
  },
  {
   "cell_type": "code",
   "execution_count": 126,
   "metadata": {
    "pycharm": {
     "is_executing": false
    }
   },
   "outputs": [
    {
     "name": "stdout",
     "output_type": "stream",
     "text": [
      "(2586, 1)\n",
      "0            train\n",
      "1            train\n",
      "2            train\n",
      "3            train\n",
      "4       validation\n",
      "           ...    \n",
      "1275          test\n",
      "1276          test\n",
      "1279    validation\n",
      "1280    validation\n",
      "1281         train\n",
      "Name: split, Length: 1061, dtype: category\n",
      "Categories (3, object): ['test', 'train', 'validation']\n",
      "[67 72 67 ... 94 60 48]\n",
      "[67 72 67 ... 94 60 48]\n",
      "Alban Berg\n",
      "True\n",
      "Alban Berg\n"
     ]
    }
   ],
   "source": [
    "x_train, y_train, x_test, y_test, x_validation, y_validation = format_data(reduced_dataset)\n",
    "print(x_train[0].shape)\n",
    "print(reduced_dataset['split'])\n",
    "print(reduced_dataset['padded_notes'][0])\n",
    "print(np.concatenate(x_train[0], axis=0))\n",
    "print(reduced_dataset['canonical_composer'][0])\n",
    "print((reduced_dataset['padded_notes'][0] == np.concatenate(x_train[0], axis=0)).all())\n",
    "print(code_to_label(y_train[0]))"
   ]
  },
  {
   "cell_type": "code",
   "execution_count": 116,
   "metadata": {},
   "outputs": [],
   "source": [
    "def build_model(input_shape, output_shape):\n",
    "    print(f'Input shape : {input_shape}')\n",
    "    print(f'Output shape : {output_shape}')\n",
    "\n",
    "    model_to_build = keras.Sequential(\n",
    "        [\n",
    "            keras.layers.Conv1D(filters=512, kernel_size=9, activation='relu', input_shape=input_shape),\n",
    "            keras.layers.Flatten(),\n",
    "            keras.layers.Dense(output_shape),\n",
    "        ]\n",
    "    )\n",
    "    model_to_build.compile(optimizer='adam', loss='sparse_categorical_crossentropy', metrics=['accuracy'])\n",
    "    model_to_build.summary()\n",
    "    return model_to_build"
   ]
  },
  {
   "cell_type": "code",
   "execution_count": 117,
   "metadata": {
    "pycharm": {
     "is_executing": false
    }
   },
   "outputs": [
    {
     "name": "stdout",
     "output_type": "stream",
     "text": [
      "Input shape : (2586, 1)\n",
      "Output shape : 61\n",
      "Model: \"sequential_14\"\n",
      "_________________________________________________________________\n",
      "Layer (type)                 Output Shape              Param #   \n",
      "=================================================================\n",
      "conv1d_12 (Conv1D)           (None, 2578, 512)         5120      \n",
      "_________________________________________________________________\n",
      "flatten_10 (Flatten)         (None, 1319936)           0         \n",
      "_________________________________________________________________\n",
      "dense_14 (Dense)             (None, 61)                80516157  \n",
      "=================================================================\n",
      "Total params: 80,521,277\n",
      "Trainable params: 80,521,277\n",
      "Non-trainable params: 0\n",
      "_________________________________________________________________\n"
     ]
    }
   ],
   "source": [
    "model = build_model(x_train[0].shape, NUM_CLASSES)"
   ]
  },
  {
   "cell_type": "code",
   "execution_count": 43,
   "metadata": {
    "pycharm": {
     "is_executing": false
    }
   },
   "outputs": [
    {
     "name": "stdout",
     "output_type": "stream",
     "text": [
      "('Failed to import pydot. You must `pip install pydot` and install graphviz (https://graphviz.gitlab.io/download/), ', 'for `pydotprint` to work.')\n"
     ]
    }
   ],
   "source": [
    "keras.utils.plot_model(model, show_shapes=True)"
   ]
  },
  {
   "cell_type": "code",
   "execution_count": 120,
   "metadata": {
    "pycharm": {
     "is_executing": false
    }
   },
   "outputs": [
    {
     "name": "stdout",
     "output_type": "stream",
     "text": [
      "Epoch 1/10\n",
      "100/100 [==============================] - 33s 331ms/step - loss: 14.4848 - accuracy: 0.0814 - val_loss: 14.9397 - val_accuracy: 0.0855\n",
      "Epoch 2/10\n",
      "100/100 [==============================] - 34s 339ms/step - loss: 14.6013 - accuracy: 0.0726 - val_loss: 14.8656 - val_accuracy: 0.0132\n",
      "Epoch 3/10\n",
      "100/100 [==============================] - 33s 334ms/step - loss: 14.5755 - accuracy: 0.0063 - val_loss: 14.7856 - val_accuracy: 0.0000e+00\n",
      "Epoch 4/10\n",
      "100/100 [==============================] - 34s 338ms/step - loss: 14.5684 - accuracy: 0.0038 - val_loss: 14.7856 - val_accuracy: 0.0000e+00\n",
      "Epoch 5/10\n",
      "100/100 [==============================] - 33s 329ms/step - loss: 14.5684 - accuracy: 0.0038 - val_loss: 14.7856 - val_accuracy: 0.0000e+00\n",
      "Epoch 6/10\n",
      "100/100 [==============================] - 33s 327ms/step - loss: 14.5684 - accuracy: 0.0038 - val_loss: 14.7856 - val_accuracy: 0.0000e+00\n",
      "Epoch 7/10\n",
      "100/100 [==============================] - 33s 332ms/step - loss: 14.5684 - accuracy: 0.0038 - val_loss: 14.7856 - val_accuracy: 0.0000e+00\n",
      "Epoch 8/10\n",
      "100/100 [==============================] - 34s 336ms/step - loss: 14.5684 - accuracy: 0.0038 - val_loss: 14.7856 - val_accuracy: 0.0000e+00\n",
      "Epoch 9/10\n",
      "100/100 [==============================] - 33s 332ms/step - loss: 14.5684 - accuracy: 0.0038 - val_loss: 14.7856 - val_accuracy: 0.0000e+00\n",
      "Epoch 10/10\n",
      "100/100 [==============================] - 33s 333ms/step - loss: 14.5684 - accuracy: 0.0038 - val_loss: 14.7856 - val_accuracy: 0.0000e+00\n",
      "10/10 [==============================] - 1s 53ms/step - loss: 14.7856 - accuracy: 0.0000e+00\n",
      "Model has achieved 0.0% of accuracy with 14.78555965423584 loss\n"
     ]
    }
   ],
   "source": [
    "checkpoint = keras.callbacks.ModelCheckpoint(f'./models/model.h5',\n",
    "                                             monitor='val_accuracy', verbose=2,\n",
    "                                             save_best_only=True, mode='max')\n",
    "tb_callback = tensorflow.keras.callbacks.TensorBoard(log_dir='./logs/',\n",
    "                                             profile_batch=(0, 32))\n",
    "\n",
    "history = model.fit(x_train, y_train, batch_size=8, epochs=10,\n",
    "#                    callbacks=[checkpoint],\n",
    "                    validation_data=(x_test, y_test), use_multiprocessing=True)\n",
    "loss, accuracy = model.evaluate(x_test, y_test, steps=10, use_multiprocessing=True)\n",
    "print(f'Model has achieved {accuracy}% of accuracy with {loss} loss')"
   ]
  },
  {
   "cell_type": "code",
   "execution_count": 127,
   "metadata": {
    "pycharm": {
     "is_executing": false
    }
   },
   "outputs": [
    {
     "data": {
      "text/plain": [
       "[Text(0.5, 0, 'Epoch'), Text(0, 0.5, 'Accuracy')]"
      ]
     },
     "execution_count": 127,
     "metadata": {},
     "output_type": "execute_result"
    },
    {
     "data": {
      "image/png": "[encoded data removed]",
      "text/plain": [
       "<Figure size 432x288 with 1 Axes>"
      ]
     },
     "metadata": {
      "needs_background": "light"
     },
     "output_type": "display_data"
    },
    {
     "data": {
      "image/png": "[encoded data removed]",
      "text/plain": [
       "<Figure size 432x288 with 1 Axes>"
      ]
     },
     "metadata": {
      "needs_background": "light"
     },
     "output_type": "display_data"
    }
   ],
   "source": [
    "pd.DataFrame(history.history)[[\"loss\", \"val_loss\"]].plot().set(xlabel=\"Epoch\", ylabel=\"Loss\")\n",
    "pd.DataFrame(history.history)[[\"accuracy\", \"val_accuracy\"]].plot().set(xlabel=\"Epoch\", ylabel=\"Accuracy\")"
   ]
  },
  {
   "cell_type": "code",
   "execution_count": 97,
   "metadata": {
    "pycharm": {
     "is_executing": true
    }
   },
   "outputs": [
    {
     "name": "stdout",
     "output_type": "stream",
     "text": [
      "Input shape : (19572, 1)\n",
      "Output shape : 61\n",
      "Model: \"sequential_25\"\n",
      "_________________________________________________________________\n",
      "Layer (type)                 Output Shape              Param #   \n",
      "=================================================================\n",
      "conv1d_50 (Conv1D)           (None, 19570, 64)         256       \n",
      "_________________________________________________________________\n",
      "conv1d_51 (Conv1D)           (None, 19568, 64)         12352     \n",
      "_________________________________________________________________\n",
      "dropout_25 (Dropout)         (None, 19568, 64)         0         \n",
      "_________________________________________________________________\n",
      "max_pooling1d_37 (MaxPooling (None, 9784, 64)          0         \n",
      "_________________________________________________________________\n",
      "max_pooling1d_38 (MaxPooling (None, 97, 64)            0         \n",
      "_________________________________________________________________\n",
      "flatten_9 (Flatten)          (None, 6208)              0         \n",
      "_________________________________________________________________\n",
      "dense_37 (Dense)             (None, 61)                378749    \n",
      "=================================================================\n",
      "Total params: 391,357\n",
      "Trainable params: 391,357\n",
      "Non-trainable params: 0\n",
      "_________________________________________________________________\n",
      "Predicted result is: Franz Schubert / Franz Liszt, target result is: Johann Sebastian Bach, idx: 88\n"
     ]
    }
   ],
   "source": [
    "idx = np.random.choice(len(x_test))\n",
    "sample, sample_label = x_test[idx], y_test[idx]\n",
    "\n",
    "test_model = build_model(x_test[0].shape, NUM_CLASSES)\n",
    "test_model.set_weights(model.get_weights())\n",
    "result = tensorflow.argmax(test_model.predict_on_batch(tensorflow.expand_dims(sample, 0)), axis=1)\n",
    "print(f'Predicted result is: {code_to_label(result)}, target result is: {code_to_label(sample_label)}, idx: {idx}')"
   ]
  }
 ],
 "metadata": {
  "kernelspec": {
   "display_name": "Python 3",
   "language": "python",
   "name": "python3"
  },
  "language_info": {
   "codemirror_mode": {
    "name": "ipython",
    "version": 3
   },
   "file_extension": ".py",
   "mimetype": "text/x-python",
   "name": "python",
   "nbconvert_exporter": "python",
   "pygments_lexer": "ipython3",
   "version": "3.7.3"
  },
  "pycharm": {
   "stem_cell": {
    "cell_type": "raw",
    "metadata": {
     "collapsed": false
    },
    "source": []
   }
  }
 },
 "nbformat": 4,
 "nbformat_minor": 4
}
